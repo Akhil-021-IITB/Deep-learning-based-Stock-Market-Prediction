{
 "cells": [
  {
   "cell_type": "code",
   "execution_count": 2,
   "id": "94c05551",
   "metadata": {},
   "outputs": [],
   "source": [
    "import pandas_datareader as pdr"
   ]
  },
  {
   "cell_type": "code",
   "execution_count": 3,
   "id": "6138ec84",
   "metadata": {},
   "outputs": [],
   "source": [
    "key = \"de388660817c9d4dfb5711fa4443778180cefa64\""
   ]
  },
  {
   "cell_type": "code",
   "execution_count": 4,
   "id": "5f59c663",
   "metadata": {},
   "outputs": [
    {
     "name": "stderr",
     "output_type": "stream",
     "text": [
      "C:\\Users\\Akhilesh Kumar\\AppData\\Local\\Temp\\ipykernel_748\\1403540965.py:1: FutureWarning: In a future version of pandas all arguments of concat except for the argument 'objs' will be keyword-only.\n",
      "  df = pdr.get_data_tiingo('GOOGL', api_key = key)\n"
     ]
    }
   ],
   "source": [
    "df = pdr.get_data_tiingo('GOOGL', api_key = key)"
   ]
  },
  {
   "cell_type": "code",
   "execution_count": 5,
   "id": "35a4f44f",
   "metadata": {},
   "outputs": [],
   "source": [
    "df.to_csv('GOOGL.csv')"
   ]
  },
  {
   "cell_type": "code",
   "execution_count": 6,
   "id": "6134225d",
   "metadata": {},
   "outputs": [],
   "source": [
    "import pandas as pd"
   ]
  },
  {
   "cell_type": "code",
   "execution_count": 7,
   "id": "82b8cf87",
   "metadata": {},
   "outputs": [],
   "source": [
    "df = pd.read_csv('GOOGL.csv')"
   ]
  },
  {
   "cell_type": "code",
   "execution_count": 8,
   "id": "443b3a30",
   "metadata": {},
   "outputs": [
    {
     "data": {
      "text/html": [
       "<div>\n",
       "<style scoped>\n",
       "    .dataframe tbody tr th:only-of-type {\n",
       "        vertical-align: middle;\n",
       "    }\n",
       "\n",
       "    .dataframe tbody tr th {\n",
       "        vertical-align: top;\n",
       "    }\n",
       "\n",
       "    .dataframe thead th {\n",
       "        text-align: right;\n",
       "    }\n",
       "</style>\n",
       "<table border=\"1\" class=\"dataframe\">\n",
       "  <thead>\n",
       "    <tr style=\"text-align: right;\">\n",
       "      <th></th>\n",
       "      <th>symbol</th>\n",
       "      <th>date</th>\n",
       "      <th>close</th>\n",
       "      <th>high</th>\n",
       "      <th>low</th>\n",
       "      <th>open</th>\n",
       "      <th>volume</th>\n",
       "      <th>adjClose</th>\n",
       "      <th>adjHigh</th>\n",
       "      <th>adjLow</th>\n",
       "      <th>adjOpen</th>\n",
       "      <th>adjVolume</th>\n",
       "      <th>divCash</th>\n",
       "      <th>splitFactor</th>\n",
       "    </tr>\n",
       "  </thead>\n",
       "  <tbody>\n",
       "    <tr>\n",
       "      <th>0</th>\n",
       "      <td>GOOGL</td>\n",
       "      <td>2019-06-10 00:00:00+00:00</td>\n",
       "      <td>1082.76</td>\n",
       "      <td>1094.84</td>\n",
       "      <td>1075.28</td>\n",
       "      <td>1077.00</td>\n",
       "      <td>1425464</td>\n",
       "      <td>54.1380</td>\n",
       "      <td>54.7420</td>\n",
       "      <td>53.7640</td>\n",
       "      <td>53.8500</td>\n",
       "      <td>28509280</td>\n",
       "      <td>0.0</td>\n",
       "      <td>1.0</td>\n",
       "    </tr>\n",
       "    <tr>\n",
       "      <th>1</th>\n",
       "      <td>GOOGL</td>\n",
       "      <td>2019-06-11 00:00:00+00:00</td>\n",
       "      <td>1081.04</td>\n",
       "      <td>1104.01</td>\n",
       "      <td>1079.57</td>\n",
       "      <td>1096.99</td>\n",
       "      <td>1675817</td>\n",
       "      <td>54.0520</td>\n",
       "      <td>55.2005</td>\n",
       "      <td>53.9785</td>\n",
       "      <td>54.8495</td>\n",
       "      <td>33516340</td>\n",
       "      <td>0.0</td>\n",
       "      <td>1.0</td>\n",
       "    </tr>\n",
       "    <tr>\n",
       "      <th>2</th>\n",
       "      <td>GOOGL</td>\n",
       "      <td>2019-06-12 00:00:00+00:00</td>\n",
       "      <td>1079.10</td>\n",
       "      <td>1082.52</td>\n",
       "      <td>1069.60</td>\n",
       "      <td>1079.95</td>\n",
       "      <td>1183650</td>\n",
       "      <td>53.9550</td>\n",
       "      <td>54.1260</td>\n",
       "      <td>53.4800</td>\n",
       "      <td>53.9975</td>\n",
       "      <td>23673000</td>\n",
       "      <td>0.0</td>\n",
       "      <td>1.0</td>\n",
       "    </tr>\n",
       "    <tr>\n",
       "      <th>3</th>\n",
       "      <td>GOOGL</td>\n",
       "      <td>2019-06-13 00:00:00+00:00</td>\n",
       "      <td>1091.01</td>\n",
       "      <td>1096.59</td>\n",
       "      <td>1082.57</td>\n",
       "      <td>1084.71</td>\n",
       "      <td>1040661</td>\n",
       "      <td>54.5505</td>\n",
       "      <td>54.8295</td>\n",
       "      <td>54.1285</td>\n",
       "      <td>54.2355</td>\n",
       "      <td>20813220</td>\n",
       "      <td>0.0</td>\n",
       "      <td>1.0</td>\n",
       "    </tr>\n",
       "    <tr>\n",
       "      <th>4</th>\n",
       "      <td>GOOGL</td>\n",
       "      <td>2019-06-14 00:00:00+00:00</td>\n",
       "      <td>1086.30</td>\n",
       "      <td>1094.76</td>\n",
       "      <td>1081.48</td>\n",
       "      <td>1089.74</td>\n",
       "      <td>1229304</td>\n",
       "      <td>54.3150</td>\n",
       "      <td>54.7380</td>\n",
       "      <td>54.0740</td>\n",
       "      <td>54.4870</td>\n",
       "      <td>24586080</td>\n",
       "      <td>0.0</td>\n",
       "      <td>1.0</td>\n",
       "    </tr>\n",
       "  </tbody>\n",
       "</table>\n",
       "</div>"
      ],
      "text/plain": [
       "  symbol                       date    close     high      low     open  \\\n",
       "0  GOOGL  2019-06-10 00:00:00+00:00  1082.76  1094.84  1075.28  1077.00   \n",
       "1  GOOGL  2019-06-11 00:00:00+00:00  1081.04  1104.01  1079.57  1096.99   \n",
       "2  GOOGL  2019-06-12 00:00:00+00:00  1079.10  1082.52  1069.60  1079.95   \n",
       "3  GOOGL  2019-06-13 00:00:00+00:00  1091.01  1096.59  1082.57  1084.71   \n",
       "4  GOOGL  2019-06-14 00:00:00+00:00  1086.30  1094.76  1081.48  1089.74   \n",
       "\n",
       "    volume  adjClose  adjHigh   adjLow  adjOpen  adjVolume  divCash  \\\n",
       "0  1425464   54.1380  54.7420  53.7640  53.8500   28509280      0.0   \n",
       "1  1675817   54.0520  55.2005  53.9785  54.8495   33516340      0.0   \n",
       "2  1183650   53.9550  54.1260  53.4800  53.9975   23673000      0.0   \n",
       "3  1040661   54.5505  54.8295  54.1285  54.2355   20813220      0.0   \n",
       "4  1229304   54.3150  54.7380  54.0740  54.4870   24586080      0.0   \n",
       "\n",
       "   splitFactor  \n",
       "0          1.0  \n",
       "1          1.0  \n",
       "2          1.0  \n",
       "3          1.0  \n",
       "4          1.0  "
      ]
     },
     "execution_count": 8,
     "metadata": {},
     "output_type": "execute_result"
    }
   ],
   "source": [
    "df.head()"
   ]
  },
  {
   "cell_type": "code",
   "execution_count": 9,
   "id": "c8b6e542",
   "metadata": {},
   "outputs": [
    {
     "data": {
      "text/html": [
       "<div>\n",
       "<style scoped>\n",
       "    .dataframe tbody tr th:only-of-type {\n",
       "        vertical-align: middle;\n",
       "    }\n",
       "\n",
       "    .dataframe tbody tr th {\n",
       "        vertical-align: top;\n",
       "    }\n",
       "\n",
       "    .dataframe thead th {\n",
       "        text-align: right;\n",
       "    }\n",
       "</style>\n",
       "<table border=\"1\" class=\"dataframe\">\n",
       "  <thead>\n",
       "    <tr style=\"text-align: right;\">\n",
       "      <th></th>\n",
       "      <th>symbol</th>\n",
       "      <th>date</th>\n",
       "      <th>close</th>\n",
       "      <th>high</th>\n",
       "      <th>low</th>\n",
       "      <th>open</th>\n",
       "      <th>volume</th>\n",
       "      <th>adjClose</th>\n",
       "      <th>adjHigh</th>\n",
       "      <th>adjLow</th>\n",
       "      <th>adjOpen</th>\n",
       "      <th>adjVolume</th>\n",
       "      <th>divCash</th>\n",
       "      <th>splitFactor</th>\n",
       "    </tr>\n",
       "  </thead>\n",
       "  <tbody>\n",
       "    <tr>\n",
       "      <th>1253</th>\n",
       "      <td>GOOGL</td>\n",
       "      <td>2024-05-31 00:00:00+00:00</td>\n",
       "      <td>172.50</td>\n",
       "      <td>173.060</td>\n",
       "      <td>169.4400</td>\n",
       "      <td>171.860</td>\n",
       "      <td>37638876</td>\n",
       "      <td>172.50</td>\n",
       "      <td>173.060</td>\n",
       "      <td>169.4400</td>\n",
       "      <td>171.860</td>\n",
       "      <td>37638876</td>\n",
       "      <td>0.0</td>\n",
       "      <td>1.0</td>\n",
       "    </tr>\n",
       "    <tr>\n",
       "      <th>1254</th>\n",
       "      <td>GOOGL</td>\n",
       "      <td>2024-06-03 00:00:00+00:00</td>\n",
       "      <td>173.17</td>\n",
       "      <td>174.525</td>\n",
       "      <td>171.1600</td>\n",
       "      <td>172.540</td>\n",
       "      <td>27459118</td>\n",
       "      <td>173.17</td>\n",
       "      <td>174.525</td>\n",
       "      <td>171.1600</td>\n",
       "      <td>172.540</td>\n",
       "      <td>27459118</td>\n",
       "      <td>0.0</td>\n",
       "      <td>1.0</td>\n",
       "    </tr>\n",
       "    <tr>\n",
       "      <th>1255</th>\n",
       "      <td>GOOGL</td>\n",
       "      <td>2024-06-04 00:00:00+00:00</td>\n",
       "      <td>173.79</td>\n",
       "      <td>173.845</td>\n",
       "      <td>171.8900</td>\n",
       "      <td>173.280</td>\n",
       "      <td>26879596</td>\n",
       "      <td>173.79</td>\n",
       "      <td>173.845</td>\n",
       "      <td>171.8900</td>\n",
       "      <td>173.280</td>\n",
       "      <td>26879596</td>\n",
       "      <td>0.0</td>\n",
       "      <td>1.0</td>\n",
       "    </tr>\n",
       "    <tr>\n",
       "      <th>1256</th>\n",
       "      <td>GOOGL</td>\n",
       "      <td>2024-06-05 00:00:00+00:00</td>\n",
       "      <td>175.41</td>\n",
       "      <td>176.645</td>\n",
       "      <td>173.9339</td>\n",
       "      <td>175.200</td>\n",
       "      <td>22068519</td>\n",
       "      <td>175.41</td>\n",
       "      <td>176.645</td>\n",
       "      <td>173.9339</td>\n",
       "      <td>175.200</td>\n",
       "      <td>22068519</td>\n",
       "      <td>0.0</td>\n",
       "      <td>1.0</td>\n",
       "    </tr>\n",
       "    <tr>\n",
       "      <th>1257</th>\n",
       "      <td>GOOGL</td>\n",
       "      <td>2024-06-06 00:00:00+00:00</td>\n",
       "      <td>176.73</td>\n",
       "      <td>177.150</td>\n",
       "      <td>175.7500</td>\n",
       "      <td>175.895</td>\n",
       "      <td>20125850</td>\n",
       "      <td>176.73</td>\n",
       "      <td>177.150</td>\n",
       "      <td>175.7500</td>\n",
       "      <td>175.895</td>\n",
       "      <td>20125850</td>\n",
       "      <td>0.0</td>\n",
       "      <td>1.0</td>\n",
       "    </tr>\n",
       "  </tbody>\n",
       "</table>\n",
       "</div>"
      ],
      "text/plain": [
       "     symbol                       date   close     high       low     open  \\\n",
       "1253  GOOGL  2024-05-31 00:00:00+00:00  172.50  173.060  169.4400  171.860   \n",
       "1254  GOOGL  2024-06-03 00:00:00+00:00  173.17  174.525  171.1600  172.540   \n",
       "1255  GOOGL  2024-06-04 00:00:00+00:00  173.79  173.845  171.8900  173.280   \n",
       "1256  GOOGL  2024-06-05 00:00:00+00:00  175.41  176.645  173.9339  175.200   \n",
       "1257  GOOGL  2024-06-06 00:00:00+00:00  176.73  177.150  175.7500  175.895   \n",
       "\n",
       "        volume  adjClose  adjHigh    adjLow  adjOpen  adjVolume  divCash  \\\n",
       "1253  37638876    172.50  173.060  169.4400  171.860   37638876      0.0   \n",
       "1254  27459118    173.17  174.525  171.1600  172.540   27459118      0.0   \n",
       "1255  26879596    173.79  173.845  171.8900  173.280   26879596      0.0   \n",
       "1256  22068519    175.41  176.645  173.9339  175.200   22068519      0.0   \n",
       "1257  20125850    176.73  177.150  175.7500  175.895   20125850      0.0   \n",
       "\n",
       "      splitFactor  \n",
       "1253          1.0  \n",
       "1254          1.0  \n",
       "1255          1.0  \n",
       "1256          1.0  \n",
       "1257          1.0  "
      ]
     },
     "execution_count": 9,
     "metadata": {},
     "output_type": "execute_result"
    }
   ],
   "source": [
    "df.tail()"
   ]
  },
  {
   "cell_type": "code",
   "execution_count": 10,
   "id": "2724853b",
   "metadata": {},
   "outputs": [],
   "source": [
    "df1 = df.reset_index()['close']"
   ]
  },
  {
   "cell_type": "code",
   "execution_count": 11,
   "id": "fc4bdf60",
   "metadata": {},
   "outputs": [
    {
     "data": {
      "text/plain": [
       "0       1082.76\n",
       "1       1081.04\n",
       "2       1079.10\n",
       "3       1091.01\n",
       "4       1086.30\n",
       "         ...   \n",
       "1253     172.50\n",
       "1254     173.17\n",
       "1255     173.79\n",
       "1256     175.41\n",
       "1257     176.73\n",
       "Name: close, Length: 1258, dtype: float64"
      ]
     },
     "execution_count": 11,
     "metadata": {},
     "output_type": "execute_result"
    }
   ],
   "source": [
    "df1"
   ]
  },
  {
   "cell_type": "code",
   "execution_count": 12,
   "id": "c94c1c6f",
   "metadata": {},
   "outputs": [
    {
     "data": {
      "text/plain": [
       "[<matplotlib.lines.Line2D at 0x1c4a65796f0>]"
      ]
     },
     "execution_count": 12,
     "metadata": {},
     "output_type": "execute_result"
    },
    {
     "data": {
      "image/png": "[encoded data removed]",
      "text/plain": [
       "<Figure size 640x480 with 1 Axes>"
      ]
     },
     "metadata": {},
     "output_type": "display_data"
    }
   ],
   "source": [
    "import matplotlib.pyplot as plt\n",
    "plt.plot(df1)"
   ]
  },
  {
   "cell_type": "code",
   "execution_count": 15,
   "id": "203a0b2d",
   "metadata": {},
   "outputs": [],
   "source": [
    "## LSTM are senstive to the scale of the data. So we apply here MinMax scale treansforming the value betweem 0 to 1"
   ]
  },
  {
   "cell_type": "code",
   "execution_count": 13,
   "id": "902f705e",
   "metadata": {},
   "outputs": [],
   "source": [
    "import numpy as np"
   ]
  },
  {
   "cell_type": "code",
   "execution_count": 14,
   "id": "d8fc9db2",
   "metadata": {},
   "outputs": [],
   "source": [
    "from sklearn.preprocessing import MinMaxScaler\n",
    "scaler = MinMaxScaler(feature_range = (0,1))\n",
    "df1 = scaler.fit_transform(np.array(df1).reshape(-1, 1))"
   ]
  },
  {
   "cell_type": "code",
   "execution_count": 15,
   "id": "8284e8b9",
   "metadata": {},
   "outputs": [
    {
     "data": {
      "text/plain": [
       "(1258, 1)"
      ]
     },
     "execution_count": 15,
     "metadata": {},
     "output_type": "execute_result"
    }
   ],
   "source": [
    "df1.shape"
   ]
  },
  {
   "cell_type": "code",
   "execution_count": 16,
   "id": "32a1f5d7",
   "metadata": {},
   "outputs": [
    {
     "data": {
      "text/plain": [
       "array([[0.34301867],\n",
       "       [0.34242828],\n",
       "       [0.34176238],\n",
       "       ...,\n",
       "       [0.03101595],\n",
       "       [0.03157201],\n",
       "       [0.0320251 ]])"
      ]
     },
     "execution_count": 16,
     "metadata": {},
     "output_type": "execute_result"
    }
   ],
   "source": [
    "df1"
   ]
  },
  {
   "cell_type": "code",
   "execution_count": 17,
   "id": "0a66a478",
   "metadata": {},
   "outputs": [],
   "source": [
    "##splitting dataset into train and test split\n",
    "training_size=int(len(df1)*0.70)\n",
    "test_size=len(df1)-training_size\n",
    "train_data,test_data=df1[0:training_size,:],df1[training_size:len(df1),:1]"
   ]
  },
  {
   "cell_type": "code",
   "execution_count": 18,
   "id": "d23fcb1c",
   "metadata": {},
   "outputs": [
    {
     "data": {
      "text/plain": [
       "(880, 378)"
      ]
     },
     "execution_count": 18,
     "metadata": {},
     "output_type": "execute_result"
    }
   ],
   "source": [
    "training_size, test_size"
   ]
  },
  {
   "cell_type": "code",
   "execution_count": 19,
   "id": "7bbf9c0e",
   "metadata": {},
   "outputs": [],
   "source": [
    "# saperating the features and target data\n",
    "\n",
    "def create_dataset(dataset, time_step=1):\n",
    "    dataX, dataY = [], []\n",
    "    for i in range(len(dataset)-time_step-1):\n",
    "        a = dataset[i:(i+time_step), 0]   ###i=0, 0,1,2,3-----99   100 \n",
    "        dataX.append(a)\n",
    "        dataY.append(dataset[i + time_step, 0])\n",
    "    return np.array(dataX), np.array(dataY)\n"
   ]
  },
  {
   "cell_type": "code",
   "execution_count": 20,
   "id": "7ac0b14b",
   "metadata": {},
   "outputs": [],
   "source": [
    "time_step = 100\n",
    "X_train, Y_train = create_dataset(train_data, time_step)\n",
    "X_test, Y_test = create_dataset(test_data, time_step)"
   ]
  },
  {
   "cell_type": "code",
   "execution_count": 21,
   "id": "2d13d87f",
   "metadata": {},
   "outputs": [
    {
     "name": "stdout",
     "output_type": "stream",
     "text": [
      "(779, 100)\n",
      "(779,)\n"
     ]
    },
    {
     "data": {
      "text/plain": [
       "(None, None)"
      ]
     },
     "execution_count": 21,
     "metadata": {},
     "output_type": "execute_result"
    }
   ],
   "source": [
    "print(X_train.shape), print(Y_train.shape)"
   ]
  },
  {
   "cell_type": "code",
   "execution_count": 22,
   "id": "0e368a61",
   "metadata": {},
   "outputs": [],
   "source": [
    "# reshape input to be [samples, time steps, features] which is required for LSTM\n",
    "X_train =X_train.reshape(X_train.shape[0],X_train.shape[1] , 1)\n",
    "X_test = X_test.reshape(X_test.shape[0],X_test.shape[1] , 1)"
   ]
  },
  {
   "cell_type": "code",
   "execution_count": 23,
   "id": "c7061994",
   "metadata": {},
   "outputs": [],
   "source": [
    "### Create the Stacked LSTM model\n",
    "from tensorflow.keras.models import Sequential\n",
    "from tensorflow.keras.layers import Dense\n",
    "from tensorflow.keras.layers import LSTM"
   ]
  },
  {
   "cell_type": "code",
   "execution_count": 24,
   "id": "0a387481",
   "metadata": {},
   "outputs": [
    {
     "name": "stderr",
     "output_type": "stream",
     "text": [
      "C:\\Users\\Akhilesh Kumar\\Anakonda\\lib\\site-packages\\keras\\src\\layers\\rnn\\rnn.py:204: UserWarning: Do not pass an `input_shape`/`input_dim` argument to a layer. When using Sequential models, prefer using an `Input(shape)` object as the first layer in the model instead.\n",
      "  super().__init__(**kwargs)\n"
     ]
    }
   ],
   "source": [
    "model=Sequential()\n",
    "model.add(LSTM(50,return_sequences=True,input_shape=(100,1)))\n",
    "model.add(LSTM(50,return_sequences=True))\n",
    "model.add(LSTM(50))\n",
    "model.add(Dense(1))\n",
    "model.compile(loss='mean_squared_error',optimizer='adam')"
   ]
  },
  {
   "cell_type": "code",
   "execution_count": 25,
   "id": "fb6421a4",
   "metadata": {},
   "outputs": [
    {
     "data": {
      "text/html": [
       "<pre style=\"white-space:pre;overflow-x:auto;line-height:normal;font-family:Menlo,'DejaVu Sans Mono',consolas,'Courier New',monospace\"><span style=\"font-weight: bold\">Model: \"sequential\"</span>\n",
       "</pre>\n"
      ],
      "text/plain": [
       "\u001b[1mModel: \"sequential\"\u001b[0m\n"
      ]
     },
     "metadata": {},
     "output_type": "display_data"
    },
    {
     "data": {
      "text/html": [
       "<pre style=\"white-space:pre;overflow-x:auto;line-height:normal;font-family:Menlo,'DejaVu Sans Mono',consolas,'Courier New',monospace\">┏━━━━━━━━━━━━━━━━━━━━━━━━━━━━━━━━━━━━━━┳━━━━━━━━━━━━━━━━━━━━━━━━━━━━━┳━━━━━━━━━━━━━━━━━┓\n",
       "┃<span style=\"font-weight: bold\"> Layer (type)                         </span>┃<span style=\"font-weight: bold\"> Output Shape                </span>┃<span style=\"font-weight: bold\">         Param # </span>┃\n",
       "┡━━━━━━━━━━━━━━━━━━━━━━━━━━━━━━━━━━━━━━╇━━━━━━━━━━━━━━━━━━━━━━━━━━━━━╇━━━━━━━━━━━━━━━━━┩\n",
       "│ lstm (<span style=\"color: #0087ff; text-decoration-color: #0087ff\">LSTM</span>)                          │ (<span style=\"color: #00d7ff; text-decoration-color: #00d7ff\">None</span>, <span style=\"color: #00af00; text-decoration-color: #00af00\">100</span>, <span style=\"color: #00af00; text-decoration-color: #00af00\">50</span>)             │          <span style=\"color: #00af00; text-decoration-color: #00af00\">10,400</span> │\n",
       "├──────────────────────────────────────┼─────────────────────────────┼─────────────────┤\n",
       "│ lstm_1 (<span style=\"color: #0087ff; text-decoration-color: #0087ff\">LSTM</span>)                        │ (<span style=\"color: #00d7ff; text-decoration-color: #00d7ff\">None</span>, <span style=\"color: #00af00; text-decoration-color: #00af00\">100</span>, <span style=\"color: #00af00; text-decoration-color: #00af00\">50</span>)             │          <span style=\"color: #00af00; text-decoration-color: #00af00\">20,200</span> │\n",
       "├──────────────────────────────────────┼─────────────────────────────┼─────────────────┤\n",
       "│ lstm_2 (<span style=\"color: #0087ff; text-decoration-color: #0087ff\">LSTM</span>)                        │ (<span style=\"color: #00d7ff; text-decoration-color: #00d7ff\">None</span>, <span style=\"color: #00af00; text-decoration-color: #00af00\">50</span>)                  │          <span style=\"color: #00af00; text-decoration-color: #00af00\">20,200</span> │\n",
       "├──────────────────────────────────────┼─────────────────────────────┼─────────────────┤\n",
       "│ dense (<span style=\"color: #0087ff; text-decoration-color: #0087ff\">Dense</span>)                        │ (<span style=\"color: #00d7ff; text-decoration-color: #00d7ff\">None</span>, <span style=\"color: #00af00; text-decoration-color: #00af00\">1</span>)                   │              <span style=\"color: #00af00; text-decoration-color: #00af00\">51</span> │\n",
       "└──────────────────────────────────────┴─────────────────────────────┴─────────────────┘\n",
       "</pre>\n"
      ],
      "text/plain": [
       "┏━━━━━━━━━━━━━━━━━━━━━━━━━━━━━━━━━━━━━━┳━━━━━━━━━━━━━━━━━━━━━━━━━━━━━┳━━━━━━━━━━━━━━━━━┓\n",
       "┃\u001b[1m \u001b[0m\u001b[1mLayer (type)                        \u001b[0m\u001b[1m \u001b[0m┃\u001b[1m \u001b[0m\u001b[1mOutput Shape               \u001b[0m\u001b[1m \u001b[0m┃\u001b[1m \u001b[0m\u001b[1m        Param #\u001b[0m\u001b[1m \u001b[0m┃\n",
       "┡━━━━━━━━━━━━━━━━━━━━━━━━━━━━━━━━━━━━━━╇━━━━━━━━━━━━━━━━━━━━━━━━━━━━━╇━━━━━━━━━━━━━━━━━┩\n",
       "│ lstm (\u001b[38;5;33mLSTM\u001b[0m)                          │ (\u001b[38;5;45mNone\u001b[0m, \u001b[38;5;34m100\u001b[0m, \u001b[38;5;34m50\u001b[0m)             │          \u001b[38;5;34m10,400\u001b[0m │\n",
       "├──────────────────────────────────────┼─────────────────────────────┼─────────────────┤\n",
       "│ lstm_1 (\u001b[38;5;33mLSTM\u001b[0m)                        │ (\u001b[38;5;45mNone\u001b[0m, \u001b[38;5;34m100\u001b[0m, \u001b[38;5;34m50\u001b[0m)             │          \u001b[38;5;34m20,200\u001b[0m │\n",
       "├──────────────────────────────────────┼─────────────────────────────┼─────────────────┤\n",
       "│ lstm_2 (\u001b[38;5;33mLSTM\u001b[0m)                        │ (\u001b[38;5;45mNone\u001b[0m, \u001b[38;5;34m50\u001b[0m)                  │          \u001b[38;5;34m20,200\u001b[0m │\n",
       "├──────────────────────────────────────┼─────────────────────────────┼─────────────────┤\n",
       "│ dense (\u001b[38;5;33mDense\u001b[0m)                        │ (\u001b[38;5;45mNone\u001b[0m, \u001b[38;5;34m1\u001b[0m)                   │              \u001b[38;5;34m51\u001b[0m │\n",
       "└──────────────────────────────────────┴─────────────────────────────┴─────────────────┘\n"
      ]
     },
     "metadata": {},
     "output_type": "display_data"
    },
    {
     "data": {
      "text/html": [
       "<pre style=\"white-space:pre;overflow-x:auto;line-height:normal;font-family:Menlo,'DejaVu Sans Mono',consolas,'Courier New',monospace\"><span style=\"font-weight: bold\"> Total params: </span><span style=\"color: #00af00; text-decoration-color: #00af00\">50,851</span> (198.64 KB)\n",
       "</pre>\n"
      ],
      "text/plain": [
       "\u001b[1m Total params: \u001b[0m\u001b[38;5;34m50,851\u001b[0m (198.64 KB)\n"
      ]
     },
     "metadata": {},
     "output_type": "display_data"
    },
    {
     "data": {
      "text/html": [
       "<pre style=\"white-space:pre;overflow-x:auto;line-height:normal;font-family:Menlo,'DejaVu Sans Mono',consolas,'Courier New',monospace\"><span style=\"font-weight: bold\"> Trainable params: </span><span style=\"color: #00af00; text-decoration-color: #00af00\">50,851</span> (198.64 KB)\n",
       "</pre>\n"
      ],
      "text/plain": [
       "\u001b[1m Trainable params: \u001b[0m\u001b[38;5;34m50,851\u001b[0m (198.64 KB)\n"
      ]
     },
     "metadata": {},
     "output_type": "display_data"
    },
    {
     "data": {
      "text/html": [
       "<pre style=\"white-space:pre;overflow-x:auto;line-height:normal;font-family:Menlo,'DejaVu Sans Mono',consolas,'Courier New',monospace\"><span style=\"font-weight: bold\"> Non-trainable params: </span><span style=\"color: #00af00; text-decoration-color: #00af00\">0</span> (0.00 B)\n",
       "</pre>\n"
      ],
      "text/plain": [
       "\u001b[1m Non-trainable params: \u001b[0m\u001b[38;5;34m0\u001b[0m (0.00 B)\n"
      ]
     },
     "metadata": {},
     "output_type": "display_data"
    }
   ],
   "source": [
    "model.summary()"
   ]
  },
  {
   "cell_type": "code",
   "execution_count": 26,
   "id": "afff1d5b",
   "metadata": {},
   "outputs": [
    {
     "name": "stdout",
     "output_type": "stream",
     "text": [
      "Epoch 1/100\n",
      "\u001b[1m13/13\u001b[0m \u001b[32m━━━━━━━━━━━━━━━━━━━━\u001b[0m\u001b[37m\u001b[0m \u001b[1m15s\u001b[0m 348ms/step - loss: 0.1758 - val_loss: 0.0059\n",
      "Epoch 2/100\n",
      "\u001b[1m13/13\u001b[0m \u001b[32m━━━━━━━━━━━━━━━━━━━━\u001b[0m\u001b[37m\u001b[0m \u001b[1m3s\u001b[0m 205ms/step - loss: 0.0260 - val_loss: 0.0104\n",
      "Epoch 3/100\n",
      "\u001b[1m13/13\u001b[0m \u001b[32m━━━━━━━━━━━━━━━━━━━━\u001b[0m\u001b[37m\u001b[0m \u001b[1m3s\u001b[0m 232ms/step - loss: 0.0129 - val_loss: 0.0025\n",
      "Epoch 4/100\n",
      "\u001b[1m13/13\u001b[0m \u001b[32m━━━━━━━━━━━━━━━━━━━━\u001b[0m\u001b[37m\u001b[0m \u001b[1m3s\u001b[0m 196ms/step - loss: 0.0070 - val_loss: 6.0143e-06\n",
      "Epoch 5/100\n",
      "\u001b[1m13/13\u001b[0m \u001b[32m━━━━━━━━━━━━━━━━━━━━\u001b[0m\u001b[37m\u001b[0m \u001b[1m3s\u001b[0m 199ms/step - loss: 0.0074 - val_loss: 4.7768e-04\n",
      "Epoch 6/100\n",
      "\u001b[1m13/13\u001b[0m \u001b[32m━━━━━━━━━━━━━━━━━━━━\u001b[0m\u001b[37m\u001b[0m \u001b[1m3s\u001b[0m 191ms/step - loss: 0.0079 - val_loss: 4.7665e-04\n",
      "Epoch 7/100\n",
      "\u001b[1m13/13\u001b[0m \u001b[32m━━━━━━━━━━━━━━━━━━━━\u001b[0m\u001b[37m\u001b[0m \u001b[1m3s\u001b[0m 228ms/step - loss: 0.0094 - val_loss: 1.0750e-04\n",
      "Epoch 8/100\n",
      "\u001b[1m13/13\u001b[0m \u001b[32m━━━━━━━━━━━━━━━━━━━━\u001b[0m\u001b[37m\u001b[0m \u001b[1m3s\u001b[0m 225ms/step - loss: 0.0066 - val_loss: 3.0537e-05\n",
      "Epoch 9/100\n",
      "\u001b[1m13/13\u001b[0m \u001b[32m━━━━━━━━━━━━━━━━━━━━\u001b[0m\u001b[37m\u001b[0m \u001b[1m3s\u001b[0m 233ms/step - loss: 0.0056 - val_loss: 4.4168e-06\n",
      "Epoch 10/100\n",
      "\u001b[1m13/13\u001b[0m \u001b[32m━━━━━━━━━━━━━━━━━━━━\u001b[0m\u001b[37m\u001b[0m \u001b[1m3s\u001b[0m 232ms/step - loss: 0.0065 - val_loss: 4.0548e-06\n",
      "Epoch 11/100\n",
      "\u001b[1m13/13\u001b[0m \u001b[32m━━━━━━━━━━━━━━━━━━━━\u001b[0m\u001b[37m\u001b[0m \u001b[1m3s\u001b[0m 249ms/step - loss: 0.0050 - val_loss: 3.9151e-05\n",
      "Epoch 12/100\n",
      "\u001b[1m13/13\u001b[0m \u001b[32m━━━━━━━━━━━━━━━━━━━━\u001b[0m\u001b[37m\u001b[0m \u001b[1m3s\u001b[0m 208ms/step - loss: 0.0042 - val_loss: 3.2929e-05\n",
      "Epoch 13/100\n",
      "\u001b[1m13/13\u001b[0m \u001b[32m━━━━━━━━━━━━━━━━━━━━\u001b[0m\u001b[37m\u001b[0m \u001b[1m4s\u001b[0m 263ms/step - loss: 0.0066 - val_loss: 1.2675e-05\n",
      "Epoch 14/100\n",
      "\u001b[1m13/13\u001b[0m \u001b[32m━━━━━━━━━━━━━━━━━━━━\u001b[0m\u001b[37m\u001b[0m \u001b[1m4s\u001b[0m 263ms/step - loss: 0.0054 - val_loss: 5.6683e-06\n",
      "Epoch 15/100\n",
      "\u001b[1m13/13\u001b[0m \u001b[32m━━━━━━━━━━━━━━━━━━━━\u001b[0m\u001b[37m\u001b[0m \u001b[1m4s\u001b[0m 270ms/step - loss: 0.0057 - val_loss: 1.0514e-04\n",
      "Epoch 16/100\n",
      "\u001b[1m13/13\u001b[0m \u001b[32m━━━━━━━━━━━━━━━━━━━━\u001b[0m\u001b[37m\u001b[0m \u001b[1m3s\u001b[0m 197ms/step - loss: 0.0035 - val_loss: 1.2605e-04\n",
      "Epoch 17/100\n",
      "\u001b[1m13/13\u001b[0m \u001b[32m━━━━━━━━━━━━━━━━━━━━\u001b[0m\u001b[37m\u001b[0m \u001b[1m3s\u001b[0m 243ms/step - loss: 0.0059 - val_loss: 2.9680e-05\n",
      "Epoch 18/100\n",
      "\u001b[1m13/13\u001b[0m \u001b[32m━━━━━━━━━━━━━━━━━━━━\u001b[0m\u001b[37m\u001b[0m \u001b[1m3s\u001b[0m 242ms/step - loss: 0.0045 - val_loss: 1.0772e-05\n",
      "Epoch 19/100\n",
      "\u001b[1m13/13\u001b[0m \u001b[32m━━━━━━━━━━━━━━━━━━━━\u001b[0m\u001b[37m\u001b[0m \u001b[1m3s\u001b[0m 234ms/step - loss: 0.0045 - val_loss: 2.6179e-05\n",
      "Epoch 20/100\n",
      "\u001b[1m13/13\u001b[0m \u001b[32m━━━━━━━━━━━━━━━━━━━━\u001b[0m\u001b[37m\u001b[0m \u001b[1m2s\u001b[0m 189ms/step - loss: 0.0053 - val_loss: 1.0515e-04\n",
      "Epoch 21/100\n",
      "\u001b[1m13/13\u001b[0m \u001b[32m━━━━━━━━━━━━━━━━━━━━\u001b[0m\u001b[37m\u001b[0m \u001b[1m3s\u001b[0m 200ms/step - loss: 0.0033 - val_loss: 1.5139e-05\n",
      "Epoch 22/100\n",
      "\u001b[1m13/13\u001b[0m \u001b[32m━━━━━━━━━━━━━━━━━━━━\u001b[0m\u001b[37m\u001b[0m \u001b[1m3s\u001b[0m 191ms/step - loss: 0.0038 - val_loss: 4.5877e-05\n",
      "Epoch 23/100\n",
      "\u001b[1m13/13\u001b[0m \u001b[32m━━━━━━━━━━━━━━━━━━━━\u001b[0m\u001b[37m\u001b[0m \u001b[1m3s\u001b[0m 264ms/step - loss: 0.0042 - val_loss: 2.6820e-05\n",
      "Epoch 24/100\n",
      "\u001b[1m13/13\u001b[0m \u001b[32m━━━━━━━━━━━━━━━━━━━━\u001b[0m\u001b[37m\u001b[0m \u001b[1m3s\u001b[0m 237ms/step - loss: 0.0056 - val_loss: 6.8908e-06\n",
      "Epoch 25/100\n",
      "\u001b[1m13/13\u001b[0m \u001b[32m━━━━━━━━━━━━━━━━━━━━\u001b[0m\u001b[37m\u001b[0m \u001b[1m4s\u001b[0m 262ms/step - loss: 0.0027 - val_loss: 4.9940e-06\n",
      "Epoch 26/100\n",
      "\u001b[1m13/13\u001b[0m \u001b[32m━━━━━━━━━━━━━━━━━━━━\u001b[0m\u001b[37m\u001b[0m \u001b[1m2s\u001b[0m 166ms/step - loss: 0.0045 - val_loss: 7.0030e-06\n",
      "Epoch 27/100\n",
      "\u001b[1m13/13\u001b[0m \u001b[32m━━━━━━━━━━━━━━━━━━━━\u001b[0m\u001b[37m\u001b[0m \u001b[1m2s\u001b[0m 159ms/step - loss: 0.0044 - val_loss: 1.6207e-05\n",
      "Epoch 28/100\n",
      "\u001b[1m13/13\u001b[0m \u001b[32m━━━━━━━━━━━━━━━━━━━━\u001b[0m\u001b[37m\u001b[0m \u001b[1m2s\u001b[0m 161ms/step - loss: 0.0040 - val_loss: 1.3426e-05\n",
      "Epoch 29/100\n",
      "\u001b[1m13/13\u001b[0m \u001b[32m━━━━━━━━━━━━━━━━━━━━\u001b[0m\u001b[37m\u001b[0m \u001b[1m2s\u001b[0m 174ms/step - loss: 0.0030 - val_loss: 1.9879e-05\n",
      "Epoch 30/100\n",
      "\u001b[1m13/13\u001b[0m \u001b[32m━━━━━━━━━━━━━━━━━━━━\u001b[0m\u001b[37m\u001b[0m \u001b[1m2s\u001b[0m 183ms/step - loss: 0.0030 - val_loss: 6.8755e-06\n",
      "Epoch 31/100\n",
      "\u001b[1m13/13\u001b[0m \u001b[32m━━━━━━━━━━━━━━━━━━━━\u001b[0m\u001b[37m\u001b[0m \u001b[1m3s\u001b[0m 195ms/step - loss: 0.0042 - val_loss: 3.0466e-06\n",
      "Epoch 32/100\n",
      "\u001b[1m13/13\u001b[0m \u001b[32m━━━━━━━━━━━━━━━━━━━━\u001b[0m\u001b[37m\u001b[0m \u001b[1m2s\u001b[0m 178ms/step - loss: 0.0020 - val_loss: 4.7287e-06\n",
      "Epoch 33/100\n",
      "\u001b[1m13/13\u001b[0m \u001b[32m━━━━━━━━━━━━━━━━━━━━\u001b[0m\u001b[37m\u001b[0m \u001b[1m3s\u001b[0m 239ms/step - loss: 0.0035 - val_loss: 3.2535e-06\n",
      "Epoch 34/100\n",
      "\u001b[1m13/13\u001b[0m \u001b[32m━━━━━━━━━━━━━━━━━━━━\u001b[0m\u001b[37m\u001b[0m \u001b[1m3s\u001b[0m 260ms/step - loss: 0.0034 - val_loss: 2.2892e-05\n",
      "Epoch 35/100\n",
      "\u001b[1m13/13\u001b[0m \u001b[32m━━━━━━━━━━━━━━━━━━━━\u001b[0m\u001b[37m\u001b[0m \u001b[1m3s\u001b[0m 184ms/step - loss: 0.0040 - val_loss: 2.3103e-05\n",
      "Epoch 36/100\n",
      "\u001b[1m13/13\u001b[0m \u001b[32m━━━━━━━━━━━━━━━━━━━━\u001b[0m\u001b[37m\u001b[0m \u001b[1m2s\u001b[0m 189ms/step - loss: 0.0036 - val_loss: 5.7313e-06\n",
      "Epoch 37/100\n",
      "\u001b[1m13/13\u001b[0m \u001b[32m━━━━━━━━━━━━━━━━━━━━\u001b[0m\u001b[37m\u001b[0m \u001b[1m2s\u001b[0m 188ms/step - loss: 0.0030 - val_loss: 7.6739e-06\n",
      "Epoch 38/100\n",
      "\u001b[1m13/13\u001b[0m \u001b[32m━━━━━━━━━━━━━━━━━━━━\u001b[0m\u001b[37m\u001b[0m \u001b[1m3s\u001b[0m 195ms/step - loss: 0.0022 - val_loss: 1.7452e-05\n",
      "Epoch 39/100\n",
      "\u001b[1m13/13\u001b[0m \u001b[32m━━━━━━━━━━━━━━━━━━━━\u001b[0m\u001b[37m\u001b[0m \u001b[1m3s\u001b[0m 256ms/step - loss: 0.0032 - val_loss: 3.1964e-05\n",
      "Epoch 40/100\n",
      "\u001b[1m13/13\u001b[0m \u001b[32m━━━━━━━━━━━━━━━━━━━━\u001b[0m\u001b[37m\u001b[0m \u001b[1m3s\u001b[0m 259ms/step - loss: 0.0016 - val_loss: 2.7740e-05\n",
      "Epoch 41/100\n",
      "\u001b[1m13/13\u001b[0m \u001b[32m━━━━━━━━━━━━━━━━━━━━\u001b[0m\u001b[37m\u001b[0m \u001b[1m4s\u001b[0m 295ms/step - loss: 0.0013 - val_loss: 3.6519e-05\n",
      "Epoch 42/100\n",
      "\u001b[1m13/13\u001b[0m \u001b[32m━━━━━━━━━━━━━━━━━━━━\u001b[0m\u001b[37m\u001b[0m \u001b[1m4s\u001b[0m 281ms/step - loss: 0.0022 - val_loss: 2.6067e-06\n",
      "Epoch 43/100\n",
      "\u001b[1m13/13\u001b[0m \u001b[32m━━━━━━━━━━━━━━━━━━━━\u001b[0m\u001b[37m\u001b[0m \u001b[1m3s\u001b[0m 188ms/step - loss: 0.0021 - val_loss: 9.3582e-06\n",
      "Epoch 44/100\n",
      "\u001b[1m13/13\u001b[0m \u001b[32m━━━━━━━━━━━━━━━━━━━━\u001b[0m\u001b[37m\u001b[0m \u001b[1m3s\u001b[0m 203ms/step - loss: 0.0012 - val_loss: 2.1379e-05\n",
      "Epoch 45/100\n",
      "\u001b[1m13/13\u001b[0m \u001b[32m━━━━━━━━━━━━━━━━━━━━\u001b[0m\u001b[37m\u001b[0m \u001b[1m3s\u001b[0m 209ms/step - loss: 0.0027 - val_loss: 1.8590e-05\n",
      "Epoch 46/100\n",
      "\u001b[1m13/13\u001b[0m \u001b[32m━━━━━━━━━━━━━━━━━━━━\u001b[0m\u001b[37m\u001b[0m \u001b[1m2s\u001b[0m 184ms/step - loss: 0.0018 - val_loss: 6.6850e-06\n",
      "Epoch 47/100\n",
      "\u001b[1m13/13\u001b[0m \u001b[32m━━━━━━━━━━━━━━━━━━━━\u001b[0m\u001b[37m\u001b[0m \u001b[1m2s\u001b[0m 169ms/step - loss: 0.0018 - val_loss: 6.9441e-06\n",
      "Epoch 48/100\n",
      "\u001b[1m13/13\u001b[0m \u001b[32m━━━━━━━━━━━━━━━━━━━━\u001b[0m\u001b[37m\u001b[0m \u001b[1m3s\u001b[0m 209ms/step - loss: 0.0013 - val_loss: 6.5740e-06\n",
      "Epoch 49/100\n",
      "\u001b[1m13/13\u001b[0m \u001b[32m━━━━━━━━━━━━━━━━━━━━\u001b[0m\u001b[37m\u001b[0m \u001b[1m3s\u001b[0m 209ms/step - loss: 0.0017 - val_loss: 4.0362e-06\n",
      "Epoch 50/100\n",
      "\u001b[1m13/13\u001b[0m \u001b[32m━━━━━━━━━━━━━━━━━━━━\u001b[0m\u001b[37m\u001b[0m \u001b[1m2s\u001b[0m 188ms/step - loss: 0.0018 - val_loss: 2.2645e-06\n",
      "Epoch 51/100\n",
      "\u001b[1m13/13\u001b[0m \u001b[32m━━━━━━━━━━━━━━━━━━━━\u001b[0m\u001b[37m\u001b[0m \u001b[1m3s\u001b[0m 226ms/step - loss: 0.0037 - val_loss: 4.1379e-06\n",
      "Epoch 52/100\n",
      "\u001b[1m13/13\u001b[0m \u001b[32m━━━━━━━━━━━━━━━━━━━━\u001b[0m\u001b[37m\u001b[0m \u001b[1m4s\u001b[0m 321ms/step - loss: 0.0017 - val_loss: 2.9338e-06\n",
      "Epoch 53/100\n",
      "\u001b[1m13/13\u001b[0m \u001b[32m━━━━━━━━━━━━━━━━━━━━\u001b[0m\u001b[37m\u001b[0m \u001b[1m3s\u001b[0m 243ms/step - loss: 0.0013 - val_loss: 5.2236e-06\n",
      "Epoch 54/100\n",
      "\u001b[1m13/13\u001b[0m \u001b[32m━━━━━━━━━━━━━━━━━━━━\u001b[0m\u001b[37m\u001b[0m \u001b[1m3s\u001b[0m 207ms/step - loss: 0.0029 - val_loss: 2.2345e-06\n",
      "Epoch 55/100\n",
      "\u001b[1m13/13\u001b[0m \u001b[32m━━━━━━━━━━━━━━━━━━━━\u001b[0m\u001b[37m\u001b[0m \u001b[1m3s\u001b[0m 264ms/step - loss: 0.0018 - val_loss: 6.2553e-06\n",
      "Epoch 56/100\n",
      "\u001b[1m13/13\u001b[0m \u001b[32m━━━━━━━━━━━━━━━━━━━━\u001b[0m\u001b[37m\u001b[0m \u001b[1m4s\u001b[0m 303ms/step - loss: 0.0016 - val_loss: 2.5329e-06\n",
      "Epoch 57/100\n",
      "\u001b[1m13/13\u001b[0m \u001b[32m━━━━━━━━━━━━━━━━━━━━\u001b[0m\u001b[37m\u001b[0m \u001b[1m3s\u001b[0m 246ms/step - loss: 0.0035 - val_loss: 7.8673e-06\n",
      "Epoch 58/100\n",
      "\u001b[1m13/13\u001b[0m \u001b[32m━━━━━━━━━━━━━━━━━━━━\u001b[0m\u001b[37m\u001b[0m \u001b[1m4s\u001b[0m 278ms/step - loss: 8.2903e-04 - val_loss: 2.3554e-06\n",
      "Epoch 59/100\n",
      "\u001b[1m13/13\u001b[0m \u001b[32m━━━━━━━━━━━━━━━━━━━━\u001b[0m\u001b[37m\u001b[0m \u001b[1m3s\u001b[0m 240ms/step - loss: 0.0013 - val_loss: 3.1252e-06\n",
      "Epoch 60/100\n",
      "\u001b[1m13/13\u001b[0m \u001b[32m━━━━━━━━━━━━━━━━━━━━\u001b[0m\u001b[37m\u001b[0m \u001b[1m3s\u001b[0m 195ms/step - loss: 0.0012 - val_loss: 1.7802e-05\n",
      "Epoch 61/100\n",
      "\u001b[1m13/13\u001b[0m \u001b[32m━━━━━━━━━━━━━━━━━━━━\u001b[0m\u001b[37m\u001b[0m \u001b[1m3s\u001b[0m 237ms/step - loss: 0.0034 - val_loss: 3.4404e-06\n",
      "Epoch 62/100\n",
      "\u001b[1m13/13\u001b[0m \u001b[32m━━━━━━━━━━━━━━━━━━━━\u001b[0m\u001b[37m\u001b[0m \u001b[1m3s\u001b[0m 241ms/step - loss: 0.0011 - val_loss: 8.3753e-06\n",
      "Epoch 63/100\n",
      "\u001b[1m13/13\u001b[0m \u001b[32m━━━━━━━━━━━━━━━━━━━━\u001b[0m\u001b[37m\u001b[0m \u001b[1m3s\u001b[0m 232ms/step - loss: 0.0013 - val_loss: 3.7272e-06\n",
      "Epoch 64/100\n",
      "\u001b[1m13/13\u001b[0m \u001b[32m━━━━━━━━━━━━━━━━━━━━\u001b[0m\u001b[37m\u001b[0m \u001b[1m3s\u001b[0m 232ms/step - loss: 0.0018 - val_loss: 3.6374e-06\n",
      "Epoch 65/100\n",
      "\u001b[1m13/13\u001b[0m \u001b[32m━━━━━━━━━━━━━━━━━━━━\u001b[0m\u001b[37m\u001b[0m \u001b[1m3s\u001b[0m 241ms/step - loss: 0.0020 - val_loss: 6.4262e-06\n",
      "Epoch 66/100\n",
      "\u001b[1m13/13\u001b[0m \u001b[32m━━━━━━━━━━━━━━━━━━━━\u001b[0m\u001b[37m\u001b[0m \u001b[1m3s\u001b[0m 208ms/step - loss: 7.8531e-04 - val_loss: 8.0135e-06\n",
      "Epoch 67/100\n",
      "\u001b[1m13/13\u001b[0m \u001b[32m━━━━━━━━━━━━━━━━━━━━\u001b[0m\u001b[37m\u001b[0m \u001b[1m3s\u001b[0m 203ms/step - loss: 0.0019 - val_loss: 4.2091e-05\n",
      "Epoch 68/100\n",
      "\u001b[1m13/13\u001b[0m \u001b[32m━━━━━━━━━━━━━━━━━━━━\u001b[0m\u001b[37m\u001b[0m \u001b[1m3s\u001b[0m 203ms/step - loss: 0.0013 - val_loss: 3.3321e-06\n",
      "Epoch 69/100\n",
      "\u001b[1m13/13\u001b[0m \u001b[32m━━━━━━━━━━━━━━━━━━━━\u001b[0m\u001b[37m\u001b[0m \u001b[1m2s\u001b[0m 150ms/step - loss: 0.0016 - val_loss: 2.1262e-06\n",
      "Epoch 70/100\n",
      "\u001b[1m13/13\u001b[0m \u001b[32m━━━━━━━━━━━━━━━━━━━━\u001b[0m\u001b[37m\u001b[0m \u001b[1m2s\u001b[0m 154ms/step - loss: 0.0013 - val_loss: 2.0461e-06\n",
      "Epoch 71/100\n",
      "\u001b[1m13/13\u001b[0m \u001b[32m━━━━━━━━━━━━━━━━━━━━\u001b[0m\u001b[37m\u001b[0m \u001b[1m2s\u001b[0m 155ms/step - loss: 6.6276e-04 - val_loss: 2.2839e-06\n",
      "Epoch 72/100\n",
      "\u001b[1m13/13\u001b[0m \u001b[32m━━━━━━━━━━━━━━━━━━━━\u001b[0m\u001b[37m\u001b[0m \u001b[1m2s\u001b[0m 137ms/step - loss: 0.0015 - val_loss: 3.9561e-05\n",
      "Epoch 73/100\n",
      "\u001b[1m13/13\u001b[0m \u001b[32m━━━━━━━━━━━━━━━━━━━━\u001b[0m\u001b[37m\u001b[0m \u001b[1m2s\u001b[0m 161ms/step - loss: 0.0017 - val_loss: 5.7974e-06\n",
      "Epoch 74/100\n",
      "\u001b[1m13/13\u001b[0m \u001b[32m━━━━━━━━━━━━━━━━━━━━\u001b[0m\u001b[37m\u001b[0m \u001b[1m2s\u001b[0m 153ms/step - loss: 8.9956e-04 - val_loss: 2.0542e-05\n",
      "Epoch 75/100\n",
      "\u001b[1m13/13\u001b[0m \u001b[32m━━━━━━━━━━━━━━━━━━━━\u001b[0m\u001b[37m\u001b[0m \u001b[1m2s\u001b[0m 142ms/step - loss: 0.0012 - val_loss: 4.5458e-06\n",
      "Epoch 76/100\n",
      "\u001b[1m13/13\u001b[0m \u001b[32m━━━━━━━━━━━━━━━━━━━━\u001b[0m\u001b[37m\u001b[0m \u001b[1m2s\u001b[0m 157ms/step - loss: 0.0016 - val_loss: 2.7364e-06\n",
      "Epoch 77/100\n",
      "\u001b[1m13/13\u001b[0m \u001b[32m━━━━━━━━━━━━━━━━━━━━\u001b[0m\u001b[37m\u001b[0m \u001b[1m3s\u001b[0m 191ms/step - loss: 5.4568e-04 - val_loss: 2.0373e-06\n",
      "Epoch 78/100\n",
      "\u001b[1m13/13\u001b[0m \u001b[32m━━━━━━━━━━━━━━━━━━━━\u001b[0m\u001b[37m\u001b[0m \u001b[1m3s\u001b[0m 208ms/step - loss: 9.4804e-04 - val_loss: 6.7292e-06\n",
      "Epoch 79/100\n",
      "\u001b[1m13/13\u001b[0m \u001b[32m━━━━━━━━━━━━━━━━━━━━\u001b[0m\u001b[37m\u001b[0m \u001b[1m2s\u001b[0m 145ms/step - loss: 8.0295e-04 - val_loss: 3.5067e-06\n",
      "Epoch 80/100\n",
      "\u001b[1m13/13\u001b[0m \u001b[32m━━━━━━━━━━━━━━━━━━━━\u001b[0m\u001b[37m\u001b[0m \u001b[1m4s\u001b[0m 273ms/step - loss: 7.7001e-04 - val_loss: 1.1187e-05\n",
      "Epoch 81/100\n",
      "\u001b[1m13/13\u001b[0m \u001b[32m━━━━━━━━━━━━━━━━━━━━\u001b[0m\u001b[37m\u001b[0m \u001b[1m4s\u001b[0m 295ms/step - loss: 0.0014 - val_loss: 5.3879e-06\n",
      "Epoch 82/100\n",
      "\u001b[1m13/13\u001b[0m \u001b[32m━━━━━━━━━━━━━━━━━━━━\u001b[0m\u001b[37m\u001b[0m \u001b[1m3s\u001b[0m 226ms/step - loss: 7.7240e-04 - val_loss: 2.0450e-06\n",
      "Epoch 83/100\n",
      "\u001b[1m13/13\u001b[0m \u001b[32m━━━━━━━━━━━━━━━━━━━━\u001b[0m\u001b[37m\u001b[0m \u001b[1m4s\u001b[0m 273ms/step - loss: 6.9264e-04 - val_loss: 3.4115e-06\n",
      "Epoch 84/100\n",
      "\u001b[1m13/13\u001b[0m \u001b[32m━━━━━━━━━━━━━━━━━━━━\u001b[0m\u001b[37m\u001b[0m \u001b[1m3s\u001b[0m 221ms/step - loss: 9.4805e-04 - val_loss: 4.4067e-06\n",
      "Epoch 85/100\n",
      "\u001b[1m13/13\u001b[0m \u001b[32m━━━━━━━━━━━━━━━━━━━━\u001b[0m\u001b[37m\u001b[0m \u001b[1m3s\u001b[0m 227ms/step - loss: 0.0011 - val_loss: 6.6582e-06\n",
      "Epoch 86/100\n",
      "\u001b[1m13/13\u001b[0m \u001b[32m━━━━━━━━━━━━━━━━━━━━\u001b[0m\u001b[37m\u001b[0m \u001b[1m2s\u001b[0m 156ms/step - loss: 5.2983e-04 - val_loss: 4.1511e-05\n",
      "Epoch 87/100\n",
      "\u001b[1m13/13\u001b[0m \u001b[32m━━━━━━━━━━━━━━━━━━━━\u001b[0m\u001b[37m\u001b[0m \u001b[1m2s\u001b[0m 154ms/step - loss: 0.0048 - val_loss: 1.9285e-06\n",
      "Epoch 88/100\n",
      "\u001b[1m13/13\u001b[0m \u001b[32m━━━━━━━━━━━━━━━━━━━━\u001b[0m\u001b[37m\u001b[0m \u001b[1m4s\u001b[0m 295ms/step - loss: 0.0017 - val_loss: 1.1790e-04\n",
      "Epoch 89/100\n",
      "\u001b[1m13/13\u001b[0m \u001b[32m━━━━━━━━━━━━━━━━━━━━\u001b[0m\u001b[37m\u001b[0m \u001b[1m3s\u001b[0m 258ms/step - loss: 8.2500e-04 - val_loss: 2.2801e-05\n",
      "Epoch 90/100\n",
      "\u001b[1m13/13\u001b[0m \u001b[32m━━━━━━━━━━━━━━━━━━━━\u001b[0m\u001b[37m\u001b[0m \u001b[1m4s\u001b[0m 324ms/step - loss: 6.2096e-04 - val_loss: 5.9799e-05\n",
      "Epoch 91/100\n",
      "\u001b[1m13/13\u001b[0m \u001b[32m━━━━━━━━━━━━━━━━━━━━\u001b[0m\u001b[37m\u001b[0m \u001b[1m5s\u001b[0m 267ms/step - loss: 0.0020 - val_loss: 2.1816e-06\n",
      "Epoch 92/100\n",
      "\u001b[1m13/13\u001b[0m \u001b[32m━━━━━━━━━━━━━━━━━━━━\u001b[0m\u001b[37m\u001b[0m \u001b[1m3s\u001b[0m 216ms/step - loss: 5.7381e-04 - val_loss: 5.4613e-06\n",
      "Epoch 93/100\n",
      "\u001b[1m13/13\u001b[0m \u001b[32m━━━━━━━━━━━━━━━━━━━━\u001b[0m\u001b[37m\u001b[0m \u001b[1m3s\u001b[0m 240ms/step - loss: 6.0659e-04 - val_loss: 2.2238e-06\n",
      "Epoch 94/100\n",
      "\u001b[1m13/13\u001b[0m \u001b[32m━━━━━━━━━━━━━━━━━━━━\u001b[0m\u001b[37m\u001b[0m \u001b[1m4s\u001b[0m 327ms/step - loss: 0.0014 - val_loss: 2.3462e-06\n",
      "Epoch 95/100\n",
      "\u001b[1m13/13\u001b[0m \u001b[32m━━━━━━━━━━━━━━━━━━━━\u001b[0m\u001b[37m\u001b[0m \u001b[1m4s\u001b[0m 244ms/step - loss: 0.0012 - val_loss: 3.3813e-06\n",
      "Epoch 96/100\n",
      "\u001b[1m13/13\u001b[0m \u001b[32m━━━━━━━━━━━━━━━━━━━━\u001b[0m\u001b[37m\u001b[0m \u001b[1m3s\u001b[0m 215ms/step - loss: 7.3265e-04 - val_loss: 2.1225e-06\n",
      "Epoch 97/100\n",
      "\u001b[1m13/13\u001b[0m \u001b[32m━━━━━━━━━━━━━━━━━━━━\u001b[0m\u001b[37m\u001b[0m \u001b[1m4s\u001b[0m 292ms/step - loss: 0.0016 - val_loss: 5.1942e-06\n",
      "Epoch 98/100\n",
      "\u001b[1m13/13\u001b[0m \u001b[32m━━━━━━━━━━━━━━━━━━━━\u001b[0m\u001b[37m\u001b[0m \u001b[1m3s\u001b[0m 248ms/step - loss: 0.0021 - val_loss: 4.4583e-06\n",
      "Epoch 99/100\n",
      "\u001b[1m13/13\u001b[0m \u001b[32m━━━━━━━━━━━━━━━━━━━━\u001b[0m\u001b[37m\u001b[0m \u001b[1m3s\u001b[0m 224ms/step - loss: 5.8765e-04 - val_loss: 3.0635e-06\n",
      "Epoch 100/100\n",
      "\u001b[1m13/13\u001b[0m \u001b[32m━━━━━━━━━━━━━━━━━━━━\u001b[0m\u001b[37m\u001b[0m \u001b[1m2s\u001b[0m 182ms/step - loss: 5.8453e-04 - val_loss: 5.3635e-06\n"
     ]
    },
    {
     "data": {
      "text/plain": [
       "<keras.src.callbacks.history.History at 0x1c4b0aba050>"
      ]
     },
     "execution_count": 26,
     "metadata": {},
     "output_type": "execute_result"
    }
   ],
   "source": [
    "model.fit(X_train,Y_train,validation_data=(X_test,Y_test),epochs=100,batch_size=64,verbose=1)"
   ]
  },
  {
   "cell_type": "code",
   "execution_count": 27,
   "id": "770a7a4e",
   "metadata": {},
   "outputs": [],
   "source": [
    "import tensorflow as tf"
   ]
  },
  {
   "cell_type": "code",
   "execution_count": 28,
   "id": "d0308271",
   "metadata": {},
   "outputs": [
    {
     "name": "stdout",
     "output_type": "stream",
     "text": [
      "\u001b[1m25/25\u001b[0m \u001b[32m━━━━━━━━━━━━━━━━━━━━\u001b[0m\u001b[37m\u001b[0m \u001b[1m2s\u001b[0m 51ms/step\n",
      "\u001b[1m9/9\u001b[0m \u001b[32m━━━━━━━━━━━━━━━━━━━━\u001b[0m\u001b[37m\u001b[0m \u001b[1m0s\u001b[0m 31ms/step\n"
     ]
    }
   ],
   "source": [
    "### Lets Do the prediction and check performance metrics\n",
    "train_predict=model.predict(X_train)\n",
    "test_predict=model.predict(X_test)"
   ]
  },
  {
   "cell_type": "code",
   "execution_count": 29,
   "id": "b92c69fb",
   "metadata": {},
   "outputs": [],
   "source": [
    "##Transformback to original form\n",
    "train_predict=scaler.inverse_transform(train_predict)\n",
    "test_predict=scaler.inverse_transform(test_predict)"
   ]
  },
  {
   "cell_type": "code",
   "execution_count": 30,
   "id": "c7cca98d",
   "metadata": {},
   "outputs": [
    {
     "data": {
      "text/plain": [
       "2017.928913167365"
      ]
     },
     "execution_count": 30,
     "metadata": {},
     "output_type": "execute_result"
    }
   ],
   "source": [
    "### Calculate RMSE performance metrics\n",
    "import math\n",
    "from sklearn.metrics import mean_squared_error\n",
    "math.sqrt(mean_squared_error(Y_train,train_predict))"
   ]
  },
  {
   "cell_type": "code",
   "execution_count": 31,
   "id": "56b672b5",
   "metadata": {},
   "outputs": [
    {
     "data": {
      "text/plain": [
       "144.26560602768393"
      ]
     },
     "execution_count": 31,
     "metadata": {},
     "output_type": "execute_result"
    }
   ],
   "source": [
    "### Test Data RMSE\n",
    "math.sqrt(mean_squared_error(Y_test,test_predict))"
   ]
  },
  {
   "cell_type": "code",
   "execution_count": 32,
   "id": "c72ca36c",
   "metadata": {},
   "outputs": [
    {
     "data": {
      "image/png": "[encoded data removed]",
      "text/plain": [
       "<Figure size 640x480 with 1 Axes>"
      ]
     },
     "metadata": {},
     "output_type": "display_data"
    }
   ],
   "source": [
    "import numpy\n",
    "### Plotting \n",
    "# shift train predictions for plotting\n",
    "look_back=100\n",
    "trainPredictPlot = numpy.empty_like(df1)\n",
    "trainPredictPlot[:, :] = np.nan\n",
    "trainPredictPlot[look_back:len(train_predict)+look_back, :] = train_predict\n",
    "# shift test predictions for plotting\n",
    "testPredictPlot = numpy.empty_like(df1)\n",
    "testPredictPlot[:, :] = numpy.nan\n",
    "testPredictPlot[len(train_predict)+(look_back*2)+1:len(df1)-1, :] = test_predict\n",
    "# plot baseline and predictions\n",
    "plt.plot(scaler.inverse_transform(df1))\n",
    "plt.plot(trainPredictPlot)\n",
    "plt.plot(testPredictPlot)\n",
    "plt.show()"
   ]
  },
  {
   "cell_type": "code",
   "execution_count": 33,
   "id": "ea121cb4",
   "metadata": {},
   "outputs": [
    {
     "data": {
      "text/plain": [
       "378"
      ]
     },
     "execution_count": 33,
     "metadata": {},
     "output_type": "execute_result"
    }
   ],
   "source": [
    "len(test_data)"
   ]
  },
  {
   "cell_type": "code",
   "execution_count": 38,
   "id": "e4adc7bd",
   "metadata": {},
   "outputs": [
    {
     "data": {
      "text/plain": [
       "(1, 100)"
      ]
     },
     "execution_count": 38,
     "metadata": {},
     "output_type": "execute_result"
    }
   ],
   "source": [
    "x_input=test_data[278:].reshape(1,-1)\n",
    "x_input.shape"
   ]
  },
  {
   "cell_type": "code",
   "execution_count": 39,
   "id": "10fb5067",
   "metadata": {},
   "outputs": [],
   "source": [
    "temp_input=list(x_input)\n",
    "temp_input=temp_input[0].tolist()"
   ]
  },
  {
   "cell_type": "code",
   "execution_count": 40,
   "id": "02aa533a",
   "metadata": {},
   "outputs": [
    {
     "data": {
      "text/plain": [
       "[0.020272264823192623,\n",
       " 0.019922151207891967,\n",
       " 0.020612080979219724,\n",
       " 0.02160750204232942,\n",
       " 0.021473635071773294,\n",
       " 0.021834046146347486,\n",
       " 0.02240383889281717,\n",
       " 0.023491937089388813,\n",
       " 0.02360006041176107,\n",
       " 0.024054864863009458,\n",
       " 0.02335120514598365,\n",
       " 0.01945190056773325,\n",
       " 0.019815744128731966,\n",
       " 0.020234507472522943,\n",
       " 0.02068073070771005,\n",
       " 0.020824895137539726,\n",
       " 0.021319173182670056,\n",
       " 0.021446175180377156,\n",
       " 0.02250681348555266,\n",
       " 0.02200223798114878,\n",
       " 0.021181873725689408,\n",
       " 0.021456472639650705,\n",
       " 0.020368374443079075,\n",
       " 0.01959606499756294,\n",
       " 0.019802014183033907,\n",
       " 0.02029285974173972,\n",
       " 0.020821462651115216,\n",
       " 0.020776840327596503,\n",
       " 0.018583481502330655,\n",
       " 0.019033137223942273,\n",
       " 0.018175015617813227,\n",
       " 0.0188889727941126,\n",
       " 0.018435884586076458,\n",
       " 0.01713497223118482,\n",
       " 0.01690156315431772,\n",
       " 0.016465637378404167,\n",
       " 0.017488518332909986,\n",
       " 0.01784206443463516,\n",
       " 0.018617806366575812,\n",
       " 0.018902702739810665,\n",
       " 0.01934549348857325,\n",
       " 0.02048164649508811,\n",
       " 0.019822609101581005,\n",
       " 0.022053725277516527,\n",
       " 0.02183061365992297,\n",
       " 0.022417568838515242,\n",
       " 0.022026265386120396,\n",
       " 0.023114363582692032,\n",
       " 0.022874089532975893,\n",
       " 0.02308003871844686,\n",
       " 0.02314868844693719,\n",
       " 0.023169283365484288,\n",
       " 0.024734497175063673,\n",
       " 0.024415275937583664,\n",
       " 0.02453884544886624,\n",
       " 0.02303198390850364,\n",
       " 0.02370818373413333,\n",
       " 0.02451481804389463,\n",
       " 0.025115503168184963,\n",
       " 0.024957608792657217,\n",
       " 0.026080031853474017,\n",
       " 0.025503374134155293,\n",
       " 0.024518250530319155,\n",
       " 0.02436035615479141,\n",
       " 0.024727632202214633,\n",
       " 0.02491298646913851,\n",
       " 0.0242539490756314,\n",
       " 0.025005663602600446,\n",
       " 0.025685295914654654,\n",
       " 0.02598392223358756,\n",
       " 0.024909553982713994,\n",
       " 0.030384369829817313,\n",
       " 0.02839352770359793,\n",
       " 0.027236779778535974,\n",
       " 0.027607488312383723,\n",
       " 0.028554854565550195,\n",
       " 0.028767668723870196,\n",
       " 0.029062862556378584,\n",
       " 0.030144095780101188,\n",
       " 0.02950222081871666,\n",
       " 0.029701305031338603,\n",
       " 0.029251649309726978,\n",
       " 0.029419841144528266,\n",
       " 0.02983173951547021,\n",
       " 0.030576589069590224,\n",
       " 0.03114981430248443,\n",
       " 0.031795121750293476,\n",
       " 0.032090315582801864,\n",
       " 0.03240953682028187,\n",
       " 0.03190496131587799,\n",
       " 0.030933567657739913,\n",
       " 0.031427845702870244,\n",
       " 0.031911826288727026,\n",
       " 0.031740201967501214,\n",
       " 0.030439289612609582,\n",
       " 0.030573156583165707,\n",
       " 0.03080313317360829,\n",
       " 0.031015947331928292,\n",
       " 0.03157201013269992,\n",
       " 0.03202509834073605]"
      ]
     },
     "execution_count": 40,
     "metadata": {},
     "output_type": "execute_result"
    }
   ],
   "source": [
    "temp_input"
   ]
  },
  {
   "cell_type": "code",
   "execution_count": 43,
   "id": "e5ac1ac9",
   "metadata": {},
   "outputs": [
    {
     "name": "stdout",
     "output_type": "stream",
     "text": [
      "1 day input [0.01888897 0.01843588 0.01713497 0.01690156 0.01646564 0.01748852\n",
      " 0.01784206 0.01861781 0.0189027  0.01934549 0.02048165 0.01982261\n",
      " 0.02205373 0.02183061 0.02241757 0.02202627 0.02311436 0.02287409\n",
      " 0.02308004 0.02314869 0.02316928 0.0247345  0.02441528 0.02453885\n",
      " 0.02303198 0.02370818 0.02451482 0.0251155  0.02495761 0.02608003\n",
      " 0.02550337 0.02451825 0.02436036 0.02472763 0.02491299 0.02425395\n",
      " 0.02500566 0.0256853  0.02598392 0.02490955 0.03038437 0.02839353\n",
      " 0.02723678 0.02760749 0.02855485 0.02876767 0.02906286 0.0301441\n",
      " 0.02950222 0.02970131 0.02925165 0.02941984 0.02983174 0.03057659\n",
      " 0.03114981 0.03179512 0.03209032 0.03240954 0.03190496 0.03093357\n",
      " 0.03142785 0.03191183 0.0317402  0.03043929 0.03057316 0.03080313\n",
      " 0.03101595 0.03157201 0.0320251  0.0336187  0.03388173 0.03429643\n",
      " 0.03480018 0.03534694 0.03591068 0.03647958 0.03704975 0.03762096\n",
      " 0.03819419 0.03877059 0.03935106 0.03993613 0.04052607 0.04112094\n",
      " 0.04172067 0.04232507 0.04293392 0.04354699 0.04416406 0.04478493\n",
      " 0.04540941 0.04603739 0.04666879 0.04730354 0.04794162 0.04858307\n",
      " 0.04922791 0.04987622 0.05052805 0.05118347]\n",
      "1 day output [[0.05184257]]\n",
      "2 day input [0.01843588 0.01713497 0.01690156 0.01646564 0.01748852 0.01784206\n",
      " 0.01861781 0.0189027  0.01934549 0.02048165 0.01982261 0.02205373\n",
      " 0.02183061 0.02241757 0.02202627 0.02311436 0.02287409 0.02308004\n",
      " 0.02314869 0.02316928 0.0247345  0.02441528 0.02453885 0.02303198\n",
      " 0.02370818 0.02451482 0.0251155  0.02495761 0.02608003 0.02550337\n",
      " 0.02451825 0.02436036 0.02472763 0.02491299 0.02425395 0.02500566\n",
      " 0.0256853  0.02598392 0.02490955 0.03038437 0.02839353 0.02723678\n",
      " 0.02760749 0.02855485 0.02876767 0.02906286 0.0301441  0.02950222\n",
      " 0.02970131 0.02925165 0.02941984 0.02983174 0.03057659 0.03114981\n",
      " 0.03179512 0.03209032 0.03240954 0.03190496 0.03093357 0.03142785\n",
      " 0.03191183 0.0317402  0.03043929 0.03057316 0.03080313 0.03101595\n",
      " 0.03157201 0.0320251  0.0336187  0.03388173 0.03429643 0.03480018\n",
      " 0.03534694 0.03591068 0.03647958 0.03704975 0.03762096 0.03819419\n",
      " 0.03877059 0.03935106 0.03993613 0.04052607 0.04112094 0.04172067\n",
      " 0.04232507 0.04293392 0.04354699 0.04416406 0.04478493 0.04540941\n",
      " 0.04603739 0.04666879 0.04730354 0.04794162 0.04858307 0.04922791\n",
      " 0.04987622 0.05052805 0.05118347 0.05184257]\n",
      "2 day output [[0.05250547]]\n",
      "3 day input [0.01713497 0.01690156 0.01646564 0.01748852 0.01784206 0.01861781\n",
      " 0.0189027  0.01934549 0.02048165 0.01982261 0.02205373 0.02183061\n",
      " 0.02241757 0.02202627 0.02311436 0.02287409 0.02308004 0.02314869\n",
      " 0.02316928 0.0247345  0.02441528 0.02453885 0.02303198 0.02370818\n",
      " 0.02451482 0.0251155  0.02495761 0.02608003 0.02550337 0.02451825\n",
      " 0.02436036 0.02472763 0.02491299 0.02425395 0.02500566 0.0256853\n",
      " 0.02598392 0.02490955 0.03038437 0.02839353 0.02723678 0.02760749\n",
      " 0.02855485 0.02876767 0.02906286 0.0301441  0.02950222 0.02970131\n",
      " 0.02925165 0.02941984 0.02983174 0.03057659 0.03114981 0.03179512\n",
      " 0.03209032 0.03240954 0.03190496 0.03093357 0.03142785 0.03191183\n",
      " 0.0317402  0.03043929 0.03057316 0.03080313 0.03101595 0.03157201\n",
      " 0.0320251  0.0336187  0.03388173 0.03429643 0.03480018 0.03534694\n",
      " 0.03591068 0.03647958 0.03704975 0.03762096 0.03819419 0.03877059\n",
      " 0.03935106 0.03993613 0.04052607 0.04112094 0.04172067 0.04232507\n",
      " 0.04293392 0.04354699 0.04416406 0.04478493 0.04540941 0.04603739\n",
      " 0.04666879 0.04730354 0.04794162 0.04858307 0.04922791 0.04987622\n",
      " 0.05052805 0.05118347 0.05184257 0.05250547]\n",
      "3 day output [[0.05317222]]\n",
      "4 day input [0.01690156 0.01646564 0.01748852 0.01784206 0.01861781 0.0189027\n",
      " 0.01934549 0.02048165 0.01982261 0.02205373 0.02183061 0.02241757\n",
      " 0.02202627 0.02311436 0.02287409 0.02308004 0.02314869 0.02316928\n",
      " 0.0247345  0.02441528 0.02453885 0.02303198 0.02370818 0.02451482\n",
      " 0.0251155  0.02495761 0.02608003 0.02550337 0.02451825 0.02436036\n",
      " 0.02472763 0.02491299 0.02425395 0.02500566 0.0256853  0.02598392\n",
      " 0.02490955 0.03038437 0.02839353 0.02723678 0.02760749 0.02855485\n",
      " 0.02876767 0.02906286 0.0301441  0.02950222 0.02970131 0.02925165\n",
      " 0.02941984 0.02983174 0.03057659 0.03114981 0.03179512 0.03209032\n",
      " 0.03240954 0.03190496 0.03093357 0.03142785 0.03191183 0.0317402\n",
      " 0.03043929 0.03057316 0.03080313 0.03101595 0.03157201 0.0320251\n",
      " 0.0336187  0.03388173 0.03429643 0.03480018 0.03534694 0.03591068\n",
      " 0.03647958 0.03704975 0.03762096 0.03819419 0.03877059 0.03935106\n",
      " 0.03993613 0.04052607 0.04112094 0.04172067 0.04232507 0.04293392\n",
      " 0.04354699 0.04416406 0.04478493 0.04540941 0.04603739 0.04666879\n",
      " 0.04730354 0.04794162 0.04858307 0.04922791 0.04987622 0.05052805\n",
      " 0.05118347 0.05184257 0.05250547 0.05317222]\n",
      "4 day output [[0.05384295]]\n",
      "5 day input [0.01646564 0.01748852 0.01784206 0.01861781 0.0189027  0.01934549\n",
      " 0.02048165 0.01982261 0.02205373 0.02183061 0.02241757 0.02202627\n",
      " 0.02311436 0.02287409 0.02308004 0.02314869 0.02316928 0.0247345\n",
      " 0.02441528 0.02453885 0.02303198 0.02370818 0.02451482 0.0251155\n",
      " 0.02495761 0.02608003 0.02550337 0.02451825 0.02436036 0.02472763\n",
      " 0.02491299 0.02425395 0.02500566 0.0256853  0.02598392 0.02490955\n",
      " 0.03038437 0.02839353 0.02723678 0.02760749 0.02855485 0.02876767\n",
      " 0.02906286 0.0301441  0.02950222 0.02970131 0.02925165 0.02941984\n",
      " 0.02983174 0.03057659 0.03114981 0.03179512 0.03209032 0.03240954\n",
      " 0.03190496 0.03093357 0.03142785 0.03191183 0.0317402  0.03043929\n",
      " 0.03057316 0.03080313 0.03101595 0.03157201 0.0320251  0.0336187\n",
      " 0.03388173 0.03429643 0.03480018 0.03534694 0.03591068 0.03647958\n",
      " 0.03704975 0.03762096 0.03819419 0.03877059 0.03935106 0.03993613\n",
      " 0.04052607 0.04112094 0.04172067 0.04232507 0.04293392 0.04354699\n",
      " 0.04416406 0.04478493 0.04540941 0.04603739 0.04666879 0.04730354\n",
      " 0.04794162 0.04858307 0.04922791 0.04987622 0.05052805 0.05118347\n",
      " 0.05184257 0.05250547 0.05317222 0.05384295]\n",
      "5 day output [[0.05451769]]\n",
      "6 day input [0.01748852 0.01784206 0.01861781 0.0189027  0.01934549 0.02048165\n",
      " 0.01982261 0.02205373 0.02183061 0.02241757 0.02202627 0.02311436\n",
      " 0.02287409 0.02308004 0.02314869 0.02316928 0.0247345  0.02441528\n",
      " 0.02453885 0.02303198 0.02370818 0.02451482 0.0251155  0.02495761\n",
      " 0.02608003 0.02550337 0.02451825 0.02436036 0.02472763 0.02491299\n",
      " 0.02425395 0.02500566 0.0256853  0.02598392 0.02490955 0.03038437\n",
      " 0.02839353 0.02723678 0.02760749 0.02855485 0.02876767 0.02906286\n",
      " 0.0301441  0.02950222 0.02970131 0.02925165 0.02941984 0.02983174\n",
      " 0.03057659 0.03114981 0.03179512 0.03209032 0.03240954 0.03190496\n",
      " 0.03093357 0.03142785 0.03191183 0.0317402  0.03043929 0.03057316\n",
      " 0.03080313 0.03101595 0.03157201 0.0320251  0.0336187  0.03388173\n",
      " 0.03429643 0.03480018 0.03534694 0.03591068 0.03647958 0.03704975\n",
      " 0.03762096 0.03819419 0.03877059 0.03935106 0.03993613 0.04052607\n",
      " 0.04112094 0.04172067 0.04232507 0.04293392 0.04354699 0.04416406\n",
      " 0.04478493 0.04540941 0.04603739 0.04666879 0.04730354 0.04794162\n",
      " 0.04858307 0.04922791 0.04987622 0.05052805 0.05118347 0.05184257\n",
      " 0.05250547 0.05317222 0.05384295 0.05451769]\n",
      "6 day output [[0.05519655]]\n",
      "7 day input [0.01784206 0.01861781 0.0189027  0.01934549 0.02048165 0.01982261\n",
      " 0.02205373 0.02183061 0.02241757 0.02202627 0.02311436 0.02287409\n",
      " 0.02308004 0.02314869 0.02316928 0.0247345  0.02441528 0.02453885\n",
      " 0.02303198 0.02370818 0.02451482 0.0251155  0.02495761 0.02608003\n",
      " 0.02550337 0.02451825 0.02436036 0.02472763 0.02491299 0.02425395\n",
      " 0.02500566 0.0256853  0.02598392 0.02490955 0.03038437 0.02839353\n",
      " 0.02723678 0.02760749 0.02855485 0.02876767 0.02906286 0.0301441\n",
      " 0.02950222 0.02970131 0.02925165 0.02941984 0.02983174 0.03057659\n",
      " 0.03114981 0.03179512 0.03209032 0.03240954 0.03190496 0.03093357\n",
      " 0.03142785 0.03191183 0.0317402  0.03043929 0.03057316 0.03080313\n",
      " 0.03101595 0.03157201 0.0320251  0.0336187  0.03388173 0.03429643\n",
      " 0.03480018 0.03534694 0.03591068 0.03647958 0.03704975 0.03762096\n",
      " 0.03819419 0.03877059 0.03935106 0.03993613 0.04052607 0.04112094\n",
      " 0.04172067 0.04232507 0.04293392 0.04354699 0.04416406 0.04478493\n",
      " 0.04540941 0.04603739 0.04666879 0.04730354 0.04794162 0.04858307\n",
      " 0.04922791 0.04987622 0.05052805 0.05118347 0.05184257 0.05250547\n",
      " 0.05317222 0.05384295 0.05451769 0.05519655]\n",
      "7 day output [[0.05587961]]\n",
      "8 day input [0.01861781 0.0189027  0.01934549 0.02048165 0.01982261 0.02205373\n",
      " 0.02183061 0.02241757 0.02202627 0.02311436 0.02287409 0.02308004\n",
      " 0.02314869 0.02316928 0.0247345  0.02441528 0.02453885 0.02303198\n",
      " 0.02370818 0.02451482 0.0251155  0.02495761 0.02608003 0.02550337\n",
      " 0.02451825 0.02436036 0.02472763 0.02491299 0.02425395 0.02500566\n",
      " 0.0256853  0.02598392 0.02490955 0.03038437 0.02839353 0.02723678\n",
      " 0.02760749 0.02855485 0.02876767 0.02906286 0.0301441  0.02950222\n",
      " 0.02970131 0.02925165 0.02941984 0.02983174 0.03057659 0.03114981\n",
      " 0.03179512 0.03209032 0.03240954 0.03190496 0.03093357 0.03142785\n",
      " 0.03191183 0.0317402  0.03043929 0.03057316 0.03080313 0.03101595\n",
      " 0.03157201 0.0320251  0.0336187  0.03388173 0.03429643 0.03480018\n",
      " 0.03534694 0.03591068 0.03647958 0.03704975 0.03762096 0.03819419\n",
      " 0.03877059 0.03935106 0.03993613 0.04052607 0.04112094 0.04172067\n",
      " 0.04232507 0.04293392 0.04354699 0.04416406 0.04478493 0.04540941\n",
      " 0.04603739 0.04666879 0.04730354 0.04794162 0.04858307 0.04922791\n",
      " 0.04987622 0.05052805 0.05118347 0.05184257 0.05250547 0.05317222\n",
      " 0.05384295 0.05451769 0.05519655 0.05587961]\n",
      "8 day output [[0.05656696]]\n",
      "9 day input [0.0189027  0.01934549 0.02048165 0.01982261 0.02205373 0.02183061\n",
      " 0.02241757 0.02202627 0.02311436 0.02287409 0.02308004 0.02314869\n",
      " 0.02316928 0.0247345  0.02441528 0.02453885 0.02303198 0.02370818\n",
      " 0.02451482 0.0251155  0.02495761 0.02608003 0.02550337 0.02451825\n",
      " 0.02436036 0.02472763 0.02491299 0.02425395 0.02500566 0.0256853\n",
      " 0.02598392 0.02490955 0.03038437 0.02839353 0.02723678 0.02760749\n",
      " 0.02855485 0.02876767 0.02906286 0.0301441  0.02950222 0.02970131\n",
      " 0.02925165 0.02941984 0.02983174 0.03057659 0.03114981 0.03179512\n",
      " 0.03209032 0.03240954 0.03190496 0.03093357 0.03142785 0.03191183\n",
      " 0.0317402  0.03043929 0.03057316 0.03080313 0.03101595 0.03157201\n",
      " 0.0320251  0.0336187  0.03388173 0.03429643 0.03480018 0.03534694\n",
      " 0.03591068 0.03647958 0.03704975 0.03762096 0.03819419 0.03877059\n",
      " 0.03935106 0.03993613 0.04052607 0.04112094 0.04172067 0.04232507\n",
      " 0.04293392 0.04354699 0.04416406 0.04478493 0.04540941 0.04603739\n",
      " 0.04666879 0.04730354 0.04794162 0.04858307 0.04922791 0.04987622\n",
      " 0.05052805 0.05118347 0.05184257 0.05250547 0.05317222 0.05384295\n",
      " 0.05451769 0.05519655 0.05587961 0.05656696]\n"
     ]
    },
    {
     "name": "stdout",
     "output_type": "stream",
     "text": [
      "9 day output [[0.05725865]]\n",
      "10 day input [0.01934549 0.02048165 0.01982261 0.02205373 0.02183061 0.02241757\n",
      " 0.02202627 0.02311436 0.02287409 0.02308004 0.02314869 0.02316928\n",
      " 0.0247345  0.02441528 0.02453885 0.02303198 0.02370818 0.02451482\n",
      " 0.0251155  0.02495761 0.02608003 0.02550337 0.02451825 0.02436036\n",
      " 0.02472763 0.02491299 0.02425395 0.02500566 0.0256853  0.02598392\n",
      " 0.02490955 0.03038437 0.02839353 0.02723678 0.02760749 0.02855485\n",
      " 0.02876767 0.02906286 0.0301441  0.02950222 0.02970131 0.02925165\n",
      " 0.02941984 0.02983174 0.03057659 0.03114981 0.03179512 0.03209032\n",
      " 0.03240954 0.03190496 0.03093357 0.03142785 0.03191183 0.0317402\n",
      " 0.03043929 0.03057316 0.03080313 0.03101595 0.03157201 0.0320251\n",
      " 0.0336187  0.03388173 0.03429643 0.03480018 0.03534694 0.03591068\n",
      " 0.03647958 0.03704975 0.03762096 0.03819419 0.03877059 0.03935106\n",
      " 0.03993613 0.04052607 0.04112094 0.04172067 0.04232507 0.04293392\n",
      " 0.04354699 0.04416406 0.04478493 0.04540941 0.04603739 0.04666879\n",
      " 0.04730354 0.04794162 0.04858307 0.04922791 0.04987622 0.05052805\n",
      " 0.05118347 0.05184257 0.05250547 0.05317222 0.05384295 0.05451769\n",
      " 0.05519655 0.05587961 0.05656696 0.05725865]\n",
      "10 day output [[0.05795477]]\n",
      "11 day input [0.02048165 0.01982261 0.02205373 0.02183061 0.02241757 0.02202627\n",
      " 0.02311436 0.02287409 0.02308004 0.02314869 0.02316928 0.0247345\n",
      " 0.02441528 0.02453885 0.02303198 0.02370818 0.02451482 0.0251155\n",
      " 0.02495761 0.02608003 0.02550337 0.02451825 0.02436036 0.02472763\n",
      " 0.02491299 0.02425395 0.02500566 0.0256853  0.02598392 0.02490955\n",
      " 0.03038437 0.02839353 0.02723678 0.02760749 0.02855485 0.02876767\n",
      " 0.02906286 0.0301441  0.02950222 0.02970131 0.02925165 0.02941984\n",
      " 0.02983174 0.03057659 0.03114981 0.03179512 0.03209032 0.03240954\n",
      " 0.03190496 0.03093357 0.03142785 0.03191183 0.0317402  0.03043929\n",
      " 0.03057316 0.03080313 0.03101595 0.03157201 0.0320251  0.0336187\n",
      " 0.03388173 0.03429643 0.03480018 0.03534694 0.03591068 0.03647958\n",
      " 0.03704975 0.03762096 0.03819419 0.03877059 0.03935106 0.03993613\n",
      " 0.04052607 0.04112094 0.04172067 0.04232507 0.04293392 0.04354699\n",
      " 0.04416406 0.04478493 0.04540941 0.04603739 0.04666879 0.04730354\n",
      " 0.04794162 0.04858307 0.04922791 0.04987622 0.05052805 0.05118347\n",
      " 0.05184257 0.05250547 0.05317222 0.05384295 0.05451769 0.05519655\n",
      " 0.05587961 0.05656696 0.05725865 0.05795477]\n",
      "11 day output [[0.05865537]]\n",
      "12 day input [0.01982261 0.02205373 0.02183061 0.02241757 0.02202627 0.02311436\n",
      " 0.02287409 0.02308004 0.02314869 0.02316928 0.0247345  0.02441528\n",
      " 0.02453885 0.02303198 0.02370818 0.02451482 0.0251155  0.02495761\n",
      " 0.02608003 0.02550337 0.02451825 0.02436036 0.02472763 0.02491299\n",
      " 0.02425395 0.02500566 0.0256853  0.02598392 0.02490955 0.03038437\n",
      " 0.02839353 0.02723678 0.02760749 0.02855485 0.02876767 0.02906286\n",
      " 0.0301441  0.02950222 0.02970131 0.02925165 0.02941984 0.02983174\n",
      " 0.03057659 0.03114981 0.03179512 0.03209032 0.03240954 0.03190496\n",
      " 0.03093357 0.03142785 0.03191183 0.0317402  0.03043929 0.03057316\n",
      " 0.03080313 0.03101595 0.03157201 0.0320251  0.0336187  0.03388173\n",
      " 0.03429643 0.03480018 0.03534694 0.03591068 0.03647958 0.03704975\n",
      " 0.03762096 0.03819419 0.03877059 0.03935106 0.03993613 0.04052607\n",
      " 0.04112094 0.04172067 0.04232507 0.04293392 0.04354699 0.04416406\n",
      " 0.04478493 0.04540941 0.04603739 0.04666879 0.04730354 0.04794162\n",
      " 0.04858307 0.04922791 0.04987622 0.05052805 0.05118347 0.05184257\n",
      " 0.05250547 0.05317222 0.05384295 0.05451769 0.05519655 0.05587961\n",
      " 0.05656696 0.05725865 0.05795477 0.05865537]\n",
      "12 day output [[0.05936056]]\n",
      "13 day input [0.02205373 0.02183061 0.02241757 0.02202627 0.02311436 0.02287409\n",
      " 0.02308004 0.02314869 0.02316928 0.0247345  0.02441528 0.02453885\n",
      " 0.02303198 0.02370818 0.02451482 0.0251155  0.02495761 0.02608003\n",
      " 0.02550337 0.02451825 0.02436036 0.02472763 0.02491299 0.02425395\n",
      " 0.02500566 0.0256853  0.02598392 0.02490955 0.03038437 0.02839353\n",
      " 0.02723678 0.02760749 0.02855485 0.02876767 0.02906286 0.0301441\n",
      " 0.02950222 0.02970131 0.02925165 0.02941984 0.02983174 0.03057659\n",
      " 0.03114981 0.03179512 0.03209032 0.03240954 0.03190496 0.03093357\n",
      " 0.03142785 0.03191183 0.0317402  0.03043929 0.03057316 0.03080313\n",
      " 0.03101595 0.03157201 0.0320251  0.0336187  0.03388173 0.03429643\n",
      " 0.03480018 0.03534694 0.03591068 0.03647958 0.03704975 0.03762096\n",
      " 0.03819419 0.03877059 0.03935106 0.03993613 0.04052607 0.04112094\n",
      " 0.04172067 0.04232507 0.04293392 0.04354699 0.04416406 0.04478493\n",
      " 0.04540941 0.04603739 0.04666879 0.04730354 0.04794162 0.04858307\n",
      " 0.04922791 0.04987622 0.05052805 0.05118347 0.05184257 0.05250547\n",
      " 0.05317222 0.05384295 0.05451769 0.05519655 0.05587961 0.05656696\n",
      " 0.05725865 0.05795477 0.05865537 0.05936056]\n",
      "13 day output [[0.06007035]]\n",
      "14 day input [0.02183061 0.02241757 0.02202627 0.02311436 0.02287409 0.02308004\n",
      " 0.02314869 0.02316928 0.0247345  0.02441528 0.02453885 0.02303198\n",
      " 0.02370818 0.02451482 0.0251155  0.02495761 0.02608003 0.02550337\n",
      " 0.02451825 0.02436036 0.02472763 0.02491299 0.02425395 0.02500566\n",
      " 0.0256853  0.02598392 0.02490955 0.03038437 0.02839353 0.02723678\n",
      " 0.02760749 0.02855485 0.02876767 0.02906286 0.0301441  0.02950222\n",
      " 0.02970131 0.02925165 0.02941984 0.02983174 0.03057659 0.03114981\n",
      " 0.03179512 0.03209032 0.03240954 0.03190496 0.03093357 0.03142785\n",
      " 0.03191183 0.0317402  0.03043929 0.03057316 0.03080313 0.03101595\n",
      " 0.03157201 0.0320251  0.0336187  0.03388173 0.03429643 0.03480018\n",
      " 0.03534694 0.03591068 0.03647958 0.03704975 0.03762096 0.03819419\n",
      " 0.03877059 0.03935106 0.03993613 0.04052607 0.04112094 0.04172067\n",
      " 0.04232507 0.04293392 0.04354699 0.04416406 0.04478493 0.04540941\n",
      " 0.04603739 0.04666879 0.04730354 0.04794162 0.04858307 0.04922791\n",
      " 0.04987622 0.05052805 0.05118347 0.05184257 0.05250547 0.05317222\n",
      " 0.05384295 0.05451769 0.05519655 0.05587961 0.05656696 0.05725865\n",
      " 0.05795477 0.05865537 0.05936056 0.06007035]\n",
      "14 day output [[0.06078485]]\n",
      "15 day input [0.02241757 0.02202627 0.02311436 0.02287409 0.02308004 0.02314869\n",
      " 0.02316928 0.0247345  0.02441528 0.02453885 0.02303198 0.02370818\n",
      " 0.02451482 0.0251155  0.02495761 0.02608003 0.02550337 0.02451825\n",
      " 0.02436036 0.02472763 0.02491299 0.02425395 0.02500566 0.0256853\n",
      " 0.02598392 0.02490955 0.03038437 0.02839353 0.02723678 0.02760749\n",
      " 0.02855485 0.02876767 0.02906286 0.0301441  0.02950222 0.02970131\n",
      " 0.02925165 0.02941984 0.02983174 0.03057659 0.03114981 0.03179512\n",
      " 0.03209032 0.03240954 0.03190496 0.03093357 0.03142785 0.03191183\n",
      " 0.0317402  0.03043929 0.03057316 0.03080313 0.03101595 0.03157201\n",
      " 0.0320251  0.0336187  0.03388173 0.03429643 0.03480018 0.03534694\n",
      " 0.03591068 0.03647958 0.03704975 0.03762096 0.03819419 0.03877059\n",
      " 0.03935106 0.03993613 0.04052607 0.04112094 0.04172067 0.04232507\n",
      " 0.04293392 0.04354699 0.04416406 0.04478493 0.04540941 0.04603739\n",
      " 0.04666879 0.04730354 0.04794162 0.04858307 0.04922791 0.04987622\n",
      " 0.05052805 0.05118347 0.05184257 0.05250547 0.05317222 0.05384295\n",
      " 0.05451769 0.05519655 0.05587961 0.05656696 0.05725865 0.05795477\n",
      " 0.05865537 0.05936056 0.06007035 0.06078485]\n",
      "15 day output [[0.06150413]]\n",
      "16 day input [0.02202627 0.02311436 0.02287409 0.02308004 0.02314869 0.02316928\n",
      " 0.0247345  0.02441528 0.02453885 0.02303198 0.02370818 0.02451482\n",
      " 0.0251155  0.02495761 0.02608003 0.02550337 0.02451825 0.02436036\n",
      " 0.02472763 0.02491299 0.02425395 0.02500566 0.0256853  0.02598392\n",
      " 0.02490955 0.03038437 0.02839353 0.02723678 0.02760749 0.02855485\n",
      " 0.02876767 0.02906286 0.0301441  0.02950222 0.02970131 0.02925165\n",
      " 0.02941984 0.02983174 0.03057659 0.03114981 0.03179512 0.03209032\n",
      " 0.03240954 0.03190496 0.03093357 0.03142785 0.03191183 0.0317402\n",
      " 0.03043929 0.03057316 0.03080313 0.03101595 0.03157201 0.0320251\n",
      " 0.0336187  0.03388173 0.03429643 0.03480018 0.03534694 0.03591068\n",
      " 0.03647958 0.03704975 0.03762096 0.03819419 0.03877059 0.03935106\n",
      " 0.03993613 0.04052607 0.04112094 0.04172067 0.04232507 0.04293392\n",
      " 0.04354699 0.04416406 0.04478493 0.04540941 0.04603739 0.04666879\n",
      " 0.04730354 0.04794162 0.04858307 0.04922791 0.04987622 0.05052805\n",
      " 0.05118347 0.05184257 0.05250547 0.05317222 0.05384295 0.05451769\n",
      " 0.05519655 0.05587961 0.05656696 0.05725865 0.05795477 0.05865537\n",
      " 0.05936056 0.06007035 0.06078485 0.06150413]\n",
      "16 day output [[0.06222825]]\n",
      "17 day input [0.02311436 0.02287409 0.02308004 0.02314869 0.02316928 0.0247345\n",
      " 0.02441528 0.02453885 0.02303198 0.02370818 0.02451482 0.0251155\n",
      " 0.02495761 0.02608003 0.02550337 0.02451825 0.02436036 0.02472763\n",
      " 0.02491299 0.02425395 0.02500566 0.0256853  0.02598392 0.02490955\n",
      " 0.03038437 0.02839353 0.02723678 0.02760749 0.02855485 0.02876767\n",
      " 0.02906286 0.0301441  0.02950222 0.02970131 0.02925165 0.02941984\n",
      " 0.02983174 0.03057659 0.03114981 0.03179512 0.03209032 0.03240954\n",
      " 0.03190496 0.03093357 0.03142785 0.03191183 0.0317402  0.03043929\n",
      " 0.03057316 0.03080313 0.03101595 0.03157201 0.0320251  0.0336187\n",
      " 0.03388173 0.03429643 0.03480018 0.03534694 0.03591068 0.03647958\n",
      " 0.03704975 0.03762096 0.03819419 0.03877059 0.03935106 0.03993613\n",
      " 0.04052607 0.04112094 0.04172067 0.04232507 0.04293392 0.04354699\n",
      " 0.04416406 0.04478493 0.04540941 0.04603739 0.04666879 0.04730354\n",
      " 0.04794162 0.04858307 0.04922791 0.04987622 0.05052805 0.05118347\n",
      " 0.05184257 0.05250547 0.05317222 0.05384295 0.05451769 0.05519655\n",
      " 0.05587961 0.05656696 0.05725865 0.05795477 0.05865537 0.05936056\n",
      " 0.06007035 0.06078485 0.06150413 0.06222825]\n",
      "17 day output [[0.06295723]]\n",
      "18 day input [0.02287409 0.02308004 0.02314869 0.02316928 0.0247345  0.02441528\n",
      " 0.02453885 0.02303198 0.02370818 0.02451482 0.0251155  0.02495761\n",
      " 0.02608003 0.02550337 0.02451825 0.02436036 0.02472763 0.02491299\n",
      " 0.02425395 0.02500566 0.0256853  0.02598392 0.02490955 0.03038437\n",
      " 0.02839353 0.02723678 0.02760749 0.02855485 0.02876767 0.02906286\n",
      " 0.0301441  0.02950222 0.02970131 0.02925165 0.02941984 0.02983174\n",
      " 0.03057659 0.03114981 0.03179512 0.03209032 0.03240954 0.03190496\n",
      " 0.03093357 0.03142785 0.03191183 0.0317402  0.03043929 0.03057316\n",
      " 0.03080313 0.03101595 0.03157201 0.0320251  0.0336187  0.03388173\n",
      " 0.03429643 0.03480018 0.03534694 0.03591068 0.03647958 0.03704975\n",
      " 0.03762096 0.03819419 0.03877059 0.03935106 0.03993613 0.04052607\n",
      " 0.04112094 0.04172067 0.04232507 0.04293392 0.04354699 0.04416406\n",
      " 0.04478493 0.04540941 0.04603739 0.04666879 0.04730354 0.04794162\n",
      " 0.04858307 0.04922791 0.04987622 0.05052805 0.05118347 0.05184257\n",
      " 0.05250547 0.05317222 0.05384295 0.05451769 0.05519655 0.05587961\n",
      " 0.05656696 0.05725865 0.05795477 0.05865537 0.05936056 0.06007035\n",
      " 0.06078485 0.06150413 0.06222825 0.06295723]\n"
     ]
    },
    {
     "name": "stdout",
     "output_type": "stream",
     "text": [
      "18 day output [[0.06369119]]\n",
      "19 day input [0.02308004 0.02314869 0.02316928 0.0247345  0.02441528 0.02453885\n",
      " 0.02303198 0.02370818 0.02451482 0.0251155  0.02495761 0.02608003\n",
      " 0.02550337 0.02451825 0.02436036 0.02472763 0.02491299 0.02425395\n",
      " 0.02500566 0.0256853  0.02598392 0.02490955 0.03038437 0.02839353\n",
      " 0.02723678 0.02760749 0.02855485 0.02876767 0.02906286 0.0301441\n",
      " 0.02950222 0.02970131 0.02925165 0.02941984 0.02983174 0.03057659\n",
      " 0.03114981 0.03179512 0.03209032 0.03240954 0.03190496 0.03093357\n",
      " 0.03142785 0.03191183 0.0317402  0.03043929 0.03057316 0.03080313\n",
      " 0.03101595 0.03157201 0.0320251  0.0336187  0.03388173 0.03429643\n",
      " 0.03480018 0.03534694 0.03591068 0.03647958 0.03704975 0.03762096\n",
      " 0.03819419 0.03877059 0.03935106 0.03993613 0.04052607 0.04112094\n",
      " 0.04172067 0.04232507 0.04293392 0.04354699 0.04416406 0.04478493\n",
      " 0.04540941 0.04603739 0.04666879 0.04730354 0.04794162 0.04858307\n",
      " 0.04922791 0.04987622 0.05052805 0.05118347 0.05184257 0.05250547\n",
      " 0.05317222 0.05384295 0.05451769 0.05519655 0.05587961 0.05656696\n",
      " 0.05725865 0.05795477 0.05865537 0.05936056 0.06007035 0.06078485\n",
      " 0.06150413 0.06222825 0.06295723 0.06369119]\n",
      "19 day output [[0.06443018]]\n",
      "20 day input [0.02314869 0.02316928 0.0247345  0.02441528 0.02453885 0.02303198\n",
      " 0.02370818 0.02451482 0.0251155  0.02495761 0.02608003 0.02550337\n",
      " 0.02451825 0.02436036 0.02472763 0.02491299 0.02425395 0.02500566\n",
      " 0.0256853  0.02598392 0.02490955 0.03038437 0.02839353 0.02723678\n",
      " 0.02760749 0.02855485 0.02876767 0.02906286 0.0301441  0.02950222\n",
      " 0.02970131 0.02925165 0.02941984 0.02983174 0.03057659 0.03114981\n",
      " 0.03179512 0.03209032 0.03240954 0.03190496 0.03093357 0.03142785\n",
      " 0.03191183 0.0317402  0.03043929 0.03057316 0.03080313 0.03101595\n",
      " 0.03157201 0.0320251  0.0336187  0.03388173 0.03429643 0.03480018\n",
      " 0.03534694 0.03591068 0.03647958 0.03704975 0.03762096 0.03819419\n",
      " 0.03877059 0.03935106 0.03993613 0.04052607 0.04112094 0.04172067\n",
      " 0.04232507 0.04293392 0.04354699 0.04416406 0.04478493 0.04540941\n",
      " 0.04603739 0.04666879 0.04730354 0.04794162 0.04858307 0.04922791\n",
      " 0.04987622 0.05052805 0.05118347 0.05184257 0.05250547 0.05317222\n",
      " 0.05384295 0.05451769 0.05519655 0.05587961 0.05656696 0.05725865\n",
      " 0.05795477 0.05865537 0.05936056 0.06007035 0.06078485 0.06150413\n",
      " 0.06222825 0.06295723 0.06369119 0.06443018]\n",
      "20 day output [[0.06517427]]\n",
      "21 day input [0.02316928 0.0247345  0.02441528 0.02453885 0.02303198 0.02370818\n",
      " 0.02451482 0.0251155  0.02495761 0.02608003 0.02550337 0.02451825\n",
      " 0.02436036 0.02472763 0.02491299 0.02425395 0.02500566 0.0256853\n",
      " 0.02598392 0.02490955 0.03038437 0.02839353 0.02723678 0.02760749\n",
      " 0.02855485 0.02876767 0.02906286 0.0301441  0.02950222 0.02970131\n",
      " 0.02925165 0.02941984 0.02983174 0.03057659 0.03114981 0.03179512\n",
      " 0.03209032 0.03240954 0.03190496 0.03093357 0.03142785 0.03191183\n",
      " 0.0317402  0.03043929 0.03057316 0.03080313 0.03101595 0.03157201\n",
      " 0.0320251  0.0336187  0.03388173 0.03429643 0.03480018 0.03534694\n",
      " 0.03591068 0.03647958 0.03704975 0.03762096 0.03819419 0.03877059\n",
      " 0.03935106 0.03993613 0.04052607 0.04112094 0.04172067 0.04232507\n",
      " 0.04293392 0.04354699 0.04416406 0.04478493 0.04540941 0.04603739\n",
      " 0.04666879 0.04730354 0.04794162 0.04858307 0.04922791 0.04987622\n",
      " 0.05052805 0.05118347 0.05184257 0.05250547 0.05317222 0.05384295\n",
      " 0.05451769 0.05519655 0.05587961 0.05656696 0.05725865 0.05795477\n",
      " 0.05865537 0.05936056 0.06007035 0.06078485 0.06150413 0.06222825\n",
      " 0.06295723 0.06369119 0.06443018 0.06517427]\n",
      "21 day output [[0.06592351]]\n",
      "22 day input [0.0247345  0.02441528 0.02453885 0.02303198 0.02370818 0.02451482\n",
      " 0.0251155  0.02495761 0.02608003 0.02550337 0.02451825 0.02436036\n",
      " 0.02472763 0.02491299 0.02425395 0.02500566 0.0256853  0.02598392\n",
      " 0.02490955 0.03038437 0.02839353 0.02723678 0.02760749 0.02855485\n",
      " 0.02876767 0.02906286 0.0301441  0.02950222 0.02970131 0.02925165\n",
      " 0.02941984 0.02983174 0.03057659 0.03114981 0.03179512 0.03209032\n",
      " 0.03240954 0.03190496 0.03093357 0.03142785 0.03191183 0.0317402\n",
      " 0.03043929 0.03057316 0.03080313 0.03101595 0.03157201 0.0320251\n",
      " 0.0336187  0.03388173 0.03429643 0.03480018 0.03534694 0.03591068\n",
      " 0.03647958 0.03704975 0.03762096 0.03819419 0.03877059 0.03935106\n",
      " 0.03993613 0.04052607 0.04112094 0.04172067 0.04232507 0.04293392\n",
      " 0.04354699 0.04416406 0.04478493 0.04540941 0.04603739 0.04666879\n",
      " 0.04730354 0.04794162 0.04858307 0.04922791 0.04987622 0.05052805\n",
      " 0.05118347 0.05184257 0.05250547 0.05317222 0.05384295 0.05451769\n",
      " 0.05519655 0.05587961 0.05656696 0.05725865 0.05795477 0.05865537\n",
      " 0.05936056 0.06007035 0.06078485 0.06150413 0.06222825 0.06295723\n",
      " 0.06369119 0.06443018 0.06517427 0.06592351]\n",
      "22 day output [[0.06667799]]\n",
      "23 day input [0.02441528 0.02453885 0.02303198 0.02370818 0.02451482 0.0251155\n",
      " 0.02495761 0.02608003 0.02550337 0.02451825 0.02436036 0.02472763\n",
      " 0.02491299 0.02425395 0.02500566 0.0256853  0.02598392 0.02490955\n",
      " 0.03038437 0.02839353 0.02723678 0.02760749 0.02855485 0.02876767\n",
      " 0.02906286 0.0301441  0.02950222 0.02970131 0.02925165 0.02941984\n",
      " 0.02983174 0.03057659 0.03114981 0.03179512 0.03209032 0.03240954\n",
      " 0.03190496 0.03093357 0.03142785 0.03191183 0.0317402  0.03043929\n",
      " 0.03057316 0.03080313 0.03101595 0.03157201 0.0320251  0.0336187\n",
      " 0.03388173 0.03429643 0.03480018 0.03534694 0.03591068 0.03647958\n",
      " 0.03704975 0.03762096 0.03819419 0.03877059 0.03935106 0.03993613\n",
      " 0.04052607 0.04112094 0.04172067 0.04232507 0.04293392 0.04354699\n",
      " 0.04416406 0.04478493 0.04540941 0.04603739 0.04666879 0.04730354\n",
      " 0.04794162 0.04858307 0.04922791 0.04987622 0.05052805 0.05118347\n",
      " 0.05184257 0.05250547 0.05317222 0.05384295 0.05451769 0.05519655\n",
      " 0.05587961 0.05656696 0.05725865 0.05795477 0.05865537 0.05936056\n",
      " 0.06007035 0.06078485 0.06150413 0.06222825 0.06295723 0.06369119\n",
      " 0.06443018 0.06517427 0.06592351 0.06667799]\n",
      "23 day output [[0.06743776]]\n",
      "24 day input [0.02453885 0.02303198 0.02370818 0.02451482 0.0251155  0.02495761\n",
      " 0.02608003 0.02550337 0.02451825 0.02436036 0.02472763 0.02491299\n",
      " 0.02425395 0.02500566 0.0256853  0.02598392 0.02490955 0.03038437\n",
      " 0.02839353 0.02723678 0.02760749 0.02855485 0.02876767 0.02906286\n",
      " 0.0301441  0.02950222 0.02970131 0.02925165 0.02941984 0.02983174\n",
      " 0.03057659 0.03114981 0.03179512 0.03209032 0.03240954 0.03190496\n",
      " 0.03093357 0.03142785 0.03191183 0.0317402  0.03043929 0.03057316\n",
      " 0.03080313 0.03101595 0.03157201 0.0320251  0.0336187  0.03388173\n",
      " 0.03429643 0.03480018 0.03534694 0.03591068 0.03647958 0.03704975\n",
      " 0.03762096 0.03819419 0.03877059 0.03935106 0.03993613 0.04052607\n",
      " 0.04112094 0.04172067 0.04232507 0.04293392 0.04354699 0.04416406\n",
      " 0.04478493 0.04540941 0.04603739 0.04666879 0.04730354 0.04794162\n",
      " 0.04858307 0.04922791 0.04987622 0.05052805 0.05118347 0.05184257\n",
      " 0.05250547 0.05317222 0.05384295 0.05451769 0.05519655 0.05587961\n",
      " 0.05656696 0.05725865 0.05795477 0.05865537 0.05936056 0.06007035\n",
      " 0.06078485 0.06150413 0.06222825 0.06295723 0.06369119 0.06443018\n",
      " 0.06517427 0.06592351 0.06667799 0.06743776]\n",
      "24 day output [[0.0682029]]\n",
      "25 day input [0.02303198 0.02370818 0.02451482 0.0251155  0.02495761 0.02608003\n",
      " 0.02550337 0.02451825 0.02436036 0.02472763 0.02491299 0.02425395\n",
      " 0.02500566 0.0256853  0.02598392 0.02490955 0.03038437 0.02839353\n",
      " 0.02723678 0.02760749 0.02855485 0.02876767 0.02906286 0.0301441\n",
      " 0.02950222 0.02970131 0.02925165 0.02941984 0.02983174 0.03057659\n",
      " 0.03114981 0.03179512 0.03209032 0.03240954 0.03190496 0.03093357\n",
      " 0.03142785 0.03191183 0.0317402  0.03043929 0.03057316 0.03080313\n",
      " 0.03101595 0.03157201 0.0320251  0.0336187  0.03388173 0.03429643\n",
      " 0.03480018 0.03534694 0.03591068 0.03647958 0.03704975 0.03762096\n",
      " 0.03819419 0.03877059 0.03935106 0.03993613 0.04052607 0.04112094\n",
      " 0.04172067 0.04232507 0.04293392 0.04354699 0.04416406 0.04478493\n",
      " 0.04540941 0.04603739 0.04666879 0.04730354 0.04794162 0.04858307\n",
      " 0.04922791 0.04987622 0.05052805 0.05118347 0.05184257 0.05250547\n",
      " 0.05317222 0.05384295 0.05451769 0.05519655 0.05587961 0.05656696\n",
      " 0.05725865 0.05795477 0.05865537 0.05936056 0.06007035 0.06078485\n",
      " 0.06150413 0.06222825 0.06295723 0.06369119 0.06443018 0.06517427\n",
      " 0.06592351 0.06667799 0.06743776 0.0682029 ]\n",
      "25 day output [[0.06897346]]\n",
      "26 day input [0.02370818 0.02451482 0.0251155  0.02495761 0.02608003 0.02550337\n",
      " 0.02451825 0.02436036 0.02472763 0.02491299 0.02425395 0.02500566\n",
      " 0.0256853  0.02598392 0.02490955 0.03038437 0.02839353 0.02723678\n",
      " 0.02760749 0.02855485 0.02876767 0.02906286 0.0301441  0.02950222\n",
      " 0.02970131 0.02925165 0.02941984 0.02983174 0.03057659 0.03114981\n",
      " 0.03179512 0.03209032 0.03240954 0.03190496 0.03093357 0.03142785\n",
      " 0.03191183 0.0317402  0.03043929 0.03057316 0.03080313 0.03101595\n",
      " 0.03157201 0.0320251  0.0336187  0.03388173 0.03429643 0.03480018\n",
      " 0.03534694 0.03591068 0.03647958 0.03704975 0.03762096 0.03819419\n",
      " 0.03877059 0.03935106 0.03993613 0.04052607 0.04112094 0.04172067\n",
      " 0.04232507 0.04293392 0.04354699 0.04416406 0.04478493 0.04540941\n",
      " 0.04603739 0.04666879 0.04730354 0.04794162 0.04858307 0.04922791\n",
      " 0.04987622 0.05052805 0.05118347 0.05184257 0.05250547 0.05317222\n",
      " 0.05384295 0.05451769 0.05519655 0.05587961 0.05656696 0.05725865\n",
      " 0.05795477 0.05865537 0.05936056 0.06007035 0.06078485 0.06150413\n",
      " 0.06222825 0.06295723 0.06369119 0.06443018 0.06517427 0.06592351\n",
      " 0.06667799 0.06743776 0.0682029  0.06897346]\n",
      "26 day output [[0.06974953]]\n",
      "27 day input [0.02451482 0.0251155  0.02495761 0.02608003 0.02550337 0.02451825\n",
      " 0.02436036 0.02472763 0.02491299 0.02425395 0.02500566 0.0256853\n",
      " 0.02598392 0.02490955 0.03038437 0.02839353 0.02723678 0.02760749\n",
      " 0.02855485 0.02876767 0.02906286 0.0301441  0.02950222 0.02970131\n",
      " 0.02925165 0.02941984 0.02983174 0.03057659 0.03114981 0.03179512\n",
      " 0.03209032 0.03240954 0.03190496 0.03093357 0.03142785 0.03191183\n",
      " 0.0317402  0.03043929 0.03057316 0.03080313 0.03101595 0.03157201\n",
      " 0.0320251  0.0336187  0.03388173 0.03429643 0.03480018 0.03534694\n",
      " 0.03591068 0.03647958 0.03704975 0.03762096 0.03819419 0.03877059\n",
      " 0.03935106 0.03993613 0.04052607 0.04112094 0.04172067 0.04232507\n",
      " 0.04293392 0.04354699 0.04416406 0.04478493 0.04540941 0.04603739\n",
      " 0.04666879 0.04730354 0.04794162 0.04858307 0.04922791 0.04987622\n",
      " 0.05052805 0.05118347 0.05184257 0.05250547 0.05317222 0.05384295\n",
      " 0.05451769 0.05519655 0.05587961 0.05656696 0.05725865 0.05795477\n",
      " 0.05865537 0.05936056 0.06007035 0.06078485 0.06150413 0.06222825\n",
      " 0.06295723 0.06369119 0.06443018 0.06517427 0.06592351 0.06667799\n",
      " 0.06743776 0.0682029  0.06897346 0.06974953]\n"
     ]
    },
    {
     "name": "stdout",
     "output_type": "stream",
     "text": [
      "27 day output [[0.0705312]]\n",
      "28 day input [0.0251155  0.02495761 0.02608003 0.02550337 0.02451825 0.02436036\n",
      " 0.02472763 0.02491299 0.02425395 0.02500566 0.0256853  0.02598392\n",
      " 0.02490955 0.03038437 0.02839353 0.02723678 0.02760749 0.02855485\n",
      " 0.02876767 0.02906286 0.0301441  0.02950222 0.02970131 0.02925165\n",
      " 0.02941984 0.02983174 0.03057659 0.03114981 0.03179512 0.03209032\n",
      " 0.03240954 0.03190496 0.03093357 0.03142785 0.03191183 0.0317402\n",
      " 0.03043929 0.03057316 0.03080313 0.03101595 0.03157201 0.0320251\n",
      " 0.0336187  0.03388173 0.03429643 0.03480018 0.03534694 0.03591068\n",
      " 0.03647958 0.03704975 0.03762096 0.03819419 0.03877059 0.03935106\n",
      " 0.03993613 0.04052607 0.04112094 0.04172067 0.04232507 0.04293392\n",
      " 0.04354699 0.04416406 0.04478493 0.04540941 0.04603739 0.04666879\n",
      " 0.04730354 0.04794162 0.04858307 0.04922791 0.04987622 0.05052805\n",
      " 0.05118347 0.05184257 0.05250547 0.05317222 0.05384295 0.05451769\n",
      " 0.05519655 0.05587961 0.05656696 0.05725865 0.05795477 0.05865537\n",
      " 0.05936056 0.06007035 0.06078485 0.06150413 0.06222825 0.06295723\n",
      " 0.06369119 0.06443018 0.06517427 0.06592351 0.06667799 0.06743776\n",
      " 0.0682029  0.06897346 0.06974953 0.0705312 ]\n",
      "28 day output [[0.07131848]]\n",
      "29 day input [0.02495761 0.02608003 0.02550337 0.02451825 0.02436036 0.02472763\n",
      " 0.02491299 0.02425395 0.02500566 0.0256853  0.02598392 0.02490955\n",
      " 0.03038437 0.02839353 0.02723678 0.02760749 0.02855485 0.02876767\n",
      " 0.02906286 0.0301441  0.02950222 0.02970131 0.02925165 0.02941984\n",
      " 0.02983174 0.03057659 0.03114981 0.03179512 0.03209032 0.03240954\n",
      " 0.03190496 0.03093357 0.03142785 0.03191183 0.0317402  0.03043929\n",
      " 0.03057316 0.03080313 0.03101595 0.03157201 0.0320251  0.0336187\n",
      " 0.03388173 0.03429643 0.03480018 0.03534694 0.03591068 0.03647958\n",
      " 0.03704975 0.03762096 0.03819419 0.03877059 0.03935106 0.03993613\n",
      " 0.04052607 0.04112094 0.04172067 0.04232507 0.04293392 0.04354699\n",
      " 0.04416406 0.04478493 0.04540941 0.04603739 0.04666879 0.04730354\n",
      " 0.04794162 0.04858307 0.04922791 0.04987622 0.05052805 0.05118347\n",
      " 0.05184257 0.05250547 0.05317222 0.05384295 0.05451769 0.05519655\n",
      " 0.05587961 0.05656696 0.05725865 0.05795477 0.05865537 0.05936056\n",
      " 0.06007035 0.06078485 0.06150413 0.06222825 0.06295723 0.06369119\n",
      " 0.06443018 0.06517427 0.06592351 0.06667799 0.06743776 0.0682029\n",
      " 0.06897346 0.06974953 0.0705312  0.07131848]\n",
      "29 day output [[0.07211149]]\n",
      "30 day input [0.02608003 0.02550337 0.02451825 0.02436036 0.02472763 0.02491299\n",
      " 0.02425395 0.02500566 0.0256853  0.02598392 0.02490955 0.03038437\n",
      " 0.02839353 0.02723678 0.02760749 0.02855485 0.02876767 0.02906286\n",
      " 0.0301441  0.02950222 0.02970131 0.02925165 0.02941984 0.02983174\n",
      " 0.03057659 0.03114981 0.03179512 0.03209032 0.03240954 0.03190496\n",
      " 0.03093357 0.03142785 0.03191183 0.0317402  0.03043929 0.03057316\n",
      " 0.03080313 0.03101595 0.03157201 0.0320251  0.0336187  0.03388173\n",
      " 0.03429643 0.03480018 0.03534694 0.03591068 0.03647958 0.03704975\n",
      " 0.03762096 0.03819419 0.03877059 0.03935106 0.03993613 0.04052607\n",
      " 0.04112094 0.04172067 0.04232507 0.04293392 0.04354699 0.04416406\n",
      " 0.04478493 0.04540941 0.04603739 0.04666879 0.04730354 0.04794162\n",
      " 0.04858307 0.04922791 0.04987622 0.05052805 0.05118347 0.05184257\n",
      " 0.05250547 0.05317222 0.05384295 0.05451769 0.05519655 0.05587961\n",
      " 0.05656696 0.05725865 0.05795477 0.05865537 0.05936056 0.06007035\n",
      " 0.06078485 0.06150413 0.06222825 0.06295723 0.06369119 0.06443018\n",
      " 0.06517427 0.06592351 0.06667799 0.06743776 0.0682029  0.06897346\n",
      " 0.06974953 0.0705312  0.07131848 0.07211149]\n",
      "30 day output [[0.0729103]]\n",
      "[[0.051842570304870605], [0.05250547081232071], [0.053172219544649124], [0.053842946887016296], [0.05451768636703491], [0.055196553468704224], [0.055879607796669006], [0.056566961109638214], [0.05725865438580513], [0.05795476958155632], [0.05865537375211716], [0.0593605563044548], [0.060070354491472244], [0.060784853994846344], [0.06150412559509277], [0.0622282475233078], [0.06295723468065262], [0.06369119137525558], [0.06443018466234207], [0.06517426669597626], [0.06592351198196411], [0.066677987575531], [0.06743776053190231], [0.0682028979063034], [0.06897345930337906], [0.06974953413009644], [0.0705311968922615], [0.07131848484277725], [0.07211148738861084], [0.07291030138731003]]\n"
     ]
    }
   ],
   "source": [
    "# demonstrate prediction for next 10 days\n",
    "from numpy import array\n",
    "\n",
    "lst_output=[]\n",
    "n_steps=100\n",
    "i=1\n",
    "while(i<31):\n",
    "    \n",
    "    if(len(temp_input)>100):\n",
    "        #print(temp_input)\n",
    "        x_input=np.array(temp_input[1:])\n",
    "        print(\"{} day input {}\".format(i,x_input))\n",
    "        x_input=x_input.reshape(1,-1)\n",
    "        x_input = x_input.reshape((1, n_steps, 1))\n",
    "        #print(x_input)\n",
    "        yhat = model.predict(x_input, verbose=0)\n",
    "        print(\"{} day output {}\".format(i,yhat))\n",
    "        temp_input.extend(yhat[0].tolist())\n",
    "        temp_input=temp_input[1:]\n",
    "        #print(temp_input)\n",
    "        lst_output.extend(yhat.tolist())\n",
    "        i=i+1\n",
    "    else:\n",
    "        x_input = x_input.reshape((1, n_steps,1))\n",
    "        yhat = model.predict(x_input, verbose=0)\n",
    "        print(yhat[0])\n",
    "        temp_input.extend(yhat[0].tolist())\n",
    "        print(len(temp_input))\n",
    "        lst_output.extend(yhat.tolist())\n",
    "        i=i+1\n",
    "    \n",
    "\n",
    "print(lst_output)"
   ]
  },
  {
   "cell_type": "code",
   "execution_count": 44,
   "id": "4554519a",
   "metadata": {},
   "outputs": [
    {
     "data": {
      "text/plain": [
       "1258"
      ]
     },
     "execution_count": 44,
     "metadata": {},
     "output_type": "execute_result"
    }
   ],
   "source": [
    "day_new=np.arange(1,101)\n",
    "day_pred=np.arange(101,131)\n",
    "import matplotlib.pyplot as plt\n",
    "len(df1)"
   ]
  },
  {
   "cell_type": "code",
   "execution_count": 45,
   "id": "987ec380",
   "metadata": {},
   "outputs": [
    {
     "data": {
      "text/plain": [
       "[<matplotlib.lines.Line2D at 0x1c4bcbf6260>]"
      ]
     },
     "execution_count": 45,
     "metadata": {},
     "output_type": "execute_result"
    },
    {
     "data": {
      "image/png": "[encoded data removed]",
      "text/plain": [
       "<Figure size 640x480 with 1 Axes>"
      ]
     },
     "metadata": {},
     "output_type": "display_data"
    }
   ],
   "source": [
    "# ploting the next 30 days predictions\n",
    "plt.plot(day_new,scaler.inverse_transform(df1[1158:]))\n",
    "plt.plot(day_pred,scaler.inverse_transform(lst_output))"
   ]
  },
  {
   "cell_type": "code",
   "execution_count": 46,
   "id": "d0e69e07",
   "metadata": {},
   "outputs": [
    {
     "data": {
      "text/plain": [
       "[<matplotlib.lines.Line2D at 0x1c4bcca8f10>]"
      ]
     },
     "execution_count": 46,
     "metadata": {},
     "output_type": "execute_result"
    },
    {
     "data": {
      "image/png": "[encoded data removed]",
      "text/plain": [
       "<Figure size 640x480 with 1 Axes>"
      ]
     },
     "metadata": {},
     "output_type": "display_data"
    }
   ],
   "source": [
    "df3=df1.tolist()\n",
    "df3.extend(lst_output)\n",
    "plt.plot(df3[1200:])"
   ]
  },
  {
   "cell_type": "code",
   "execution_count": 47,
   "id": "629669b9",
   "metadata": {},
   "outputs": [
    {
     "data": {
      "text/plain": [
       "[<matplotlib.lines.Line2D at 0x1c4bcd3e290>]"
      ]
     },
     "execution_count": 47,
     "metadata": {},
     "output_type": "execute_result"
    },
    {
     "data": {
      "image/png": "[encoded data removed]",
      "text/plain": [
       "<Figure size 640x480 with 1 Axes>"
      ]
     },
     "metadata": {},
     "output_type": "display_data"
    }
   ],
   "source": [
    "df3=scaler.inverse_transform(df3).tolist()\n",
    "plt.plot(df3)"
   ]
  },
  {
   "cell_type": "code",
   "execution_count": 12,
   "id": "02c9a004",
   "metadata": {},
   "outputs": [],
   "source": [
    "from statsmodels.tsa.arima.model import ARIMA\n",
    "from sklearn.metrics import mean_squared_error"
   ]
  },
  {
   "cell_type": "code",
   "execution_count": 13,
   "id": "0e5d4674",
   "metadata": {},
   "outputs": [],
   "source": [
    "# Split the data into training and test set\n",
    "train_size = int(len(df1) * 0.8)\n",
    "train_data, test = df1[0:train_size], df1[train_size:]"
   ]
  },
  {
   "cell_type": "code",
   "execution_count": 15,
   "id": "f670e988",
   "metadata": {},
   "outputs": [
    {
     "ename": "NameError",
     "evalue": "name 'auto_arima' is not defined",
     "output_type": "error",
     "traceback": [
      "\u001b[1;31m---------------------------------------------------------------------------\u001b[0m",
      "\u001b[1;31mNameError\u001b[0m                                 Traceback (most recent call last)",
      "Cell \u001b[1;32mIn[15], line 4\u001b[0m\n\u001b[0;32m      1\u001b[0m \u001b[38;5;66;03m# Fit the ARIMA model\u001b[39;00m\n\u001b[0;32m      2\u001b[0m \u001b[38;5;66;03m#model = ARIMA(train, order=(5, 1, 0))  \u001b[39;00m\n\u001b[0;32m      3\u001b[0m \u001b[38;5;66;03m#model_fit = model.fit()\u001b[39;00m\n\u001b[1;32m----> 4\u001b[0m model_autoARIMA \u001b[38;5;241m=\u001b[39m \u001b[43mauto_arima\u001b[49m(train_data, start_p\u001b[38;5;241m=\u001b[39m\u001b[38;5;241m0\u001b[39m, start_q\u001b[38;5;241m=\u001b[39m\u001b[38;5;241m0\u001b[39m,\n\u001b[0;32m      5\u001b[0m                       test\u001b[38;5;241m=\u001b[39m\u001b[38;5;124m'\u001b[39m\u001b[38;5;124madf\u001b[39m\u001b[38;5;124m'\u001b[39m,       \u001b[38;5;66;03m# use adftest to find optimal 'd'\u001b[39;00m\n\u001b[0;32m      6\u001b[0m                       max_p\u001b[38;5;241m=\u001b[39m\u001b[38;5;241m3\u001b[39m, max_q\u001b[38;5;241m=\u001b[39m\u001b[38;5;241m3\u001b[39m, \u001b[38;5;66;03m# maximum p and q\u001b[39;00m\n\u001b[0;32m      7\u001b[0m                       m\u001b[38;5;241m=\u001b[39m\u001b[38;5;241m1\u001b[39m,              \u001b[38;5;66;03m# frequency of series\u001b[39;00m\n\u001b[0;32m      8\u001b[0m                       d\u001b[38;5;241m=\u001b[39m\u001b[38;5;28;01mNone\u001b[39;00m,           \u001b[38;5;66;03m# let model determine 'd'\u001b[39;00m\n\u001b[0;32m      9\u001b[0m                       seasonal\u001b[38;5;241m=\u001b[39m\u001b[38;5;28;01mFalse\u001b[39;00m,   \u001b[38;5;66;03m# No Seasonality\u001b[39;00m\n\u001b[0;32m     10\u001b[0m                       start_P\u001b[38;5;241m=\u001b[39m\u001b[38;5;241m0\u001b[39m, \n\u001b[0;32m     11\u001b[0m                       D\u001b[38;5;241m=\u001b[39m\u001b[38;5;241m0\u001b[39m, \n\u001b[0;32m     12\u001b[0m                       trace\u001b[38;5;241m=\u001b[39m\u001b[38;5;28;01mTrue\u001b[39;00m,\n\u001b[0;32m     13\u001b[0m                       error_action\u001b[38;5;241m=\u001b[39m\u001b[38;5;124m'\u001b[39m\u001b[38;5;124mignore\u001b[39m\u001b[38;5;124m'\u001b[39m,  \n\u001b[0;32m     14\u001b[0m                       suppress_warnings\u001b[38;5;241m=\u001b[39m\u001b[38;5;28;01mTrue\u001b[39;00m, \n\u001b[0;32m     15\u001b[0m                       stepwise\u001b[38;5;241m=\u001b[39m\u001b[38;5;28;01mTrue\u001b[39;00m)\n\u001b[0;32m     16\u001b[0m \u001b[38;5;28mprint\u001b[39m(model_autoARIMA\u001b[38;5;241m.\u001b[39msummary())\n\u001b[0;32m     17\u001b[0m model_autoARIMA\u001b[38;5;241m.\u001b[39mplot_diagnostics(figsize\u001b[38;5;241m=\u001b[39m(\u001b[38;5;241m15\u001b[39m,\u001b[38;5;241m8\u001b[39m))\n",
      "\u001b[1;31mNameError\u001b[0m: name 'auto_arima' is not defined"
     ]
    }
   ],
   "source": [
    "# Fit the ARIMA model\n",
    "#model = ARIMA(train, order=(5, 1, 0))  \n",
    "#model_fit = model.fit()\n",
    "model_autoARIMA = auto_arima(train_data, start_p=0, start_q=0,\n",
    "                      test='adf',       # use adftest to find optimal 'd'\n",
    "                      max_p=3, max_q=3, # maximum p and q\n",
    "                      m=1,              # frequency of series\n",
    "                      d=None,           # let model determine 'd'\n",
    "                      seasonal=False,   # No Seasonality\n",
    "                      start_P=0, \n",
    "                      D=0, \n",
    "                      trace=True,\n",
    "                      error_action='ignore',  \n",
    "                      suppress_warnings=True, \n",
    "                      stepwise=True)\n",
    "print(model_autoARIMA.summary())\n",
    "model_autoARIMA.plot_diagnostics(figsize=(15,8))\n",
    "plt.show()"
   ]
  },
  {
   "cell_type": "code",
   "execution_count": 69,
   "id": "77387ca7",
   "metadata": {},
   "outputs": [],
   "source": [
    "# Forecast the next 30 days\n",
    "forecast_result = model_fit.get_forecast(steps=30)\n",
    "forecast = forecast_result.predicted_mean\n",
    "stderr = forecast_result.se_mean\n",
    "conf_int = forecast_result.conf_int()"
   ]
  },
  {
   "cell_type": "code",
   "execution_count": 70,
   "id": "cb04f9f1",
   "metadata": {},
   "outputs": [
    {
     "ename": "AttributeError",
     "evalue": "'numpy.ndarray' object has no attribute 'index'",
     "output_type": "error",
     "traceback": [
      "\u001b[1;31m---------------------------------------------------------------------------\u001b[0m",
      "\u001b[1;31mAttributeError\u001b[0m                            Traceback (most recent call last)",
      "Cell \u001b[1;32mIn[70], line 3\u001b[0m\n\u001b[0;32m      1\u001b[0m \u001b[38;5;66;03m# Plot the forecast\u001b[39;00m\n\u001b[0;32m      2\u001b[0m plt\u001b[38;5;241m.\u001b[39mfigure(figsize\u001b[38;5;241m=\u001b[39m(\u001b[38;5;241m12\u001b[39m, \u001b[38;5;241m6\u001b[39m))\n\u001b[1;32m----> 3\u001b[0m plt\u001b[38;5;241m.\u001b[39mplot(\u001b[43mdf1\u001b[49m\u001b[38;5;241;43m.\u001b[39;49m\u001b[43mindex\u001b[49m, df1, label\u001b[38;5;241m=\u001b[39m\u001b[38;5;124m'\u001b[39m\u001b[38;5;124mHistorical\u001b[39m\u001b[38;5;124m'\u001b[39m)\n\u001b[0;32m      4\u001b[0m plt\u001b[38;5;241m.\u001b[39mplot(pd\u001b[38;5;241m.\u001b[39mdate_range(start\u001b[38;5;241m=\u001b[39mdata\u001b[38;5;241m.\u001b[39mindex[\u001b[38;5;241m-\u001b[39m\u001b[38;5;241m1\u001b[39m], periods\u001b[38;5;241m=\u001b[39m\u001b[38;5;241m31\u001b[39m, closed\u001b[38;5;241m=\u001b[39m\u001b[38;5;124m'\u001b[39m\u001b[38;5;124mright\u001b[39m\u001b[38;5;124m'\u001b[39m), forecast, label\u001b[38;5;241m=\u001b[39m\u001b[38;5;124m'\u001b[39m\u001b[38;5;124mForecast\u001b[39m\u001b[38;5;124m'\u001b[39m, color\u001b[38;5;241m=\u001b[39m\u001b[38;5;124m'\u001b[39m\u001b[38;5;124mred\u001b[39m\u001b[38;5;124m'\u001b[39m)\n\u001b[0;32m      5\u001b[0m plt\u001b[38;5;241m.\u001b[39mfill_between(pd\u001b[38;5;241m.\u001b[39mdf1_range(start\u001b[38;5;241m=\u001b[39mdf1\u001b[38;5;241m.\u001b[39mindex[\u001b[38;5;241m-\u001b[39m\u001b[38;5;241m1\u001b[39m], periods\u001b[38;5;241m=\u001b[39m\u001b[38;5;241m31\u001b[39m, closed\u001b[38;5;241m=\u001b[39m\u001b[38;5;124m'\u001b[39m\u001b[38;5;124mright\u001b[39m\u001b[38;5;124m'\u001b[39m),\n\u001b[0;32m      6\u001b[0m                  conf_int[:, \u001b[38;5;241m0\u001b[39m], conf_int[:, \u001b[38;5;241m1\u001b[39m], color\u001b[38;5;241m=\u001b[39m\u001b[38;5;124m'\u001b[39m\u001b[38;5;124mpink\u001b[39m\u001b[38;5;124m'\u001b[39m)\n",
      "\u001b[1;31mAttributeError\u001b[0m: 'numpy.ndarray' object has no attribute 'index'"
     ]
    },
    {
     "data": {
      "text/plain": [
       "<Figure size 1200x600 with 0 Axes>"
      ]
     },
     "metadata": {},
     "output_type": "display_data"
    }
   ],
   "source": [
    "# Plot the forecast\n",
    "plt.figure(figsize=(12, 6))\n",
    "plt.plot(df1.index, df1, label='Historical')\n",
    "plt.plot(pd.date_range(start=data.index[-1], periods=31, closed='right'), forecast, label='Forecast', color='red')\n",
    "plt.fill_between(pd.df1_range(start=df1.index[-1], periods=31, closed='right'),\n",
    "                 conf_int[:, 0], conf_int[:, 1], color='pink')\n",
    "plt.legend()\n",
    "plt.show()\n",
    "\n",
    "# Print the forecast\n",
    "print(forecast)"
   ]
  }
 ],
 "metadata": {
  "kernelspec": {
   "display_name": "Python 3 (ipykernel)",
   "language": "python",
   "name": "python3"
  },
  "language_info": {
   "codemirror_mode": {
    "name": "ipython",
    "version": 3
   },
   "file_extension": ".py",
   "mimetype": "text/x-python",
   "name": "python",
   "nbconvert_exporter": "python",
   "pygments_lexer": "ipython3",
   "version": "3.10.9"
  }
 },
 "nbformat": 4,
 "nbformat_minor": 5
}
